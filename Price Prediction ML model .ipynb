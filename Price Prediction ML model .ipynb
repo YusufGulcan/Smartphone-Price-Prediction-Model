{
 "cells": [
  {
   "cell_type": "markdown",
   "id": "213b75df",
   "metadata": {
    "pycharm": {
     "name": "#%% md\n"
    }
   },
   "source": [
    "# PRICE PREDICTION WITH XGBOOST VS CATBOOST REGRESSORS"
   ]
  },
  {
   "cell_type": "markdown",
   "id": "8a054c4c",
   "metadata": {
    "pycharm": {
     "name": "#%% md\n"
    }
   },
   "source": [
    "## Import Dependencies"
   ]
  },
  {
   "cell_type": "code",
   "execution_count": 38,
   "id": "22f3752a",
   "metadata": {
    "pycharm": {
     "name": "#%%\n"
    }
   },
   "outputs": [],
   "source": [
    "import pandas as pd\n",
    "import numpy as np\n",
    "import matplotlib.pyplot as plt\n",
    "import re\n",
    "import seaborn as sns\n",
    "from sklearn import model_selection\n",
    "from sklearn.preprocessing import  LabelEncoder\n",
    "import xgboost as xgb\n",
    "from sklearn.model_selection import train_test_split\n",
    "from xgboost import XGBRegressor\n",
    "from sklearn.model_selection import GridSearchCV\n",
    "from sklearn.metrics import accuracy_score\n",
    "import catboost as cb\n",
    "from catboost import CatBoostRegressor\n",
    "from sklearn.metrics import mean_absolute_percentage_error\n",
    "from sklearn import metrics\n",
    "import pickle"
   ]
  },
  {
   "cell_type": "markdown",
   "id": "05dc1385",
   "metadata": {
    "pycharm": {
     "name": "#%% md\n"
    }
   },
   "source": [
    "### Load and Clean the Data"
   ]
  },
  {
   "cell_type": "code",
   "execution_count": 5,
   "id": "45f642c8",
   "metadata": {
    "pycharm": {
     "name": "#%%\n"
    }
   },
   "outputs": [
    {
     "data": {
      "text/plain": "   Unnamed: 0         Model             Brand  Price      CPU  RAM  Storage  \\\n0         939  Y21 4gb/64gb       İNOVELSTORE   3399      NaN  4.0     64.0   \n1         516     Y21 V2111  Çimenli İletişim   3327      NaN  4.0     64.0   \n2         723       1S 2020           Alcatel   2069  1.5-2.0  3.0     32.0   \n\n  Operating System  Camera Resolution  Screen Size Battery Power  Color  \\\n0          Android                NaN          NaN           NaN   Mavi   \n1          Android                NaN          NaN           NaN  Beyaz   \n2          Android               12.5          6.0   3000 - 4000    Gri   \n\n                                                Link  \n0  https://www.trendyol.com/vivo/y21-4gb-64gb-p-2...  \n1  https://www.trendyol.com/vivo/y21-v2111-4gb-64...  \n2  https://www.trendyol.com/alcatel/1s-2020-32gb-...  ",
      "text/html": "<div>\n<style scoped>\n    .dataframe tbody tr th:only-of-type {\n        vertical-align: middle;\n    }\n\n    .dataframe tbody tr th {\n        vertical-align: top;\n    }\n\n    .dataframe thead th {\n        text-align: right;\n    }\n</style>\n<table border=\"1\" class=\"dataframe\">\n  <thead>\n    <tr style=\"text-align: right;\">\n      <th></th>\n      <th>Unnamed: 0</th>\n      <th>Model</th>\n      <th>Brand</th>\n      <th>Price</th>\n      <th>CPU</th>\n      <th>RAM</th>\n      <th>Storage</th>\n      <th>Operating System</th>\n      <th>Camera Resolution</th>\n      <th>Screen Size</th>\n      <th>Battery Power</th>\n      <th>Color</th>\n      <th>Link</th>\n    </tr>\n  </thead>\n  <tbody>\n    <tr>\n      <th>0</th>\n      <td>939</td>\n      <td>Y21 4gb/64gb</td>\n      <td>İNOVELSTORE</td>\n      <td>3399</td>\n      <td>NaN</td>\n      <td>4.0</td>\n      <td>64.0</td>\n      <td>Android</td>\n      <td>NaN</td>\n      <td>NaN</td>\n      <td>NaN</td>\n      <td>Mavi</td>\n      <td>https://www.trendyol.com/vivo/y21-4gb-64gb-p-2...</td>\n    </tr>\n    <tr>\n      <th>1</th>\n      <td>516</td>\n      <td>Y21 V2111</td>\n      <td>Çimenli İletişim</td>\n      <td>3327</td>\n      <td>NaN</td>\n      <td>4.0</td>\n      <td>64.0</td>\n      <td>Android</td>\n      <td>NaN</td>\n      <td>NaN</td>\n      <td>NaN</td>\n      <td>Beyaz</td>\n      <td>https://www.trendyol.com/vivo/y21-v2111-4gb-64...</td>\n    </tr>\n    <tr>\n      <th>2</th>\n      <td>723</td>\n      <td>1S 2020</td>\n      <td>Alcatel</td>\n      <td>2069</td>\n      <td>1.5-2.0</td>\n      <td>3.0</td>\n      <td>32.0</td>\n      <td>Android</td>\n      <td>12.5</td>\n      <td>6.0</td>\n      <td>3000 - 4000</td>\n      <td>Gri</td>\n      <td>https://www.trendyol.com/alcatel/1s-2020-32gb-...</td>\n    </tr>\n  </tbody>\n</table>\n</div>"
     },
     "execution_count": 5,
     "metadata": {},
     "output_type": "execute_result"
    }
   ],
   "source": [
    "df = pd.read_csv('Trendyol_detailed2.csv')       ## Load the data\n",
    "df.head(3)"
   ]
  },
  {
   "cell_type": "code",
   "execution_count": 6,
   "id": "9321172c",
   "metadata": {
    "pycharm": {
     "name": "#%%\n"
    }
   },
   "outputs": [
    {
     "data": {
      "text/plain": "          Model             Brand  Price      CPU  RAM  Storage  \\\n0  Y21 4gb/64gb       İNOVELSTORE   3399      NaN  4.0     64.0   \n1     Y21 V2111  Çimenli İletişim   3327      NaN  4.0     64.0   \n2       1S 2020           Alcatel   2069  1.5-2.0  3.0     32.0   \n\n  Operating System  Camera Resolution  Screen Size  Color  \n0          Android                NaN          NaN   Mavi  \n1          Android                NaN          NaN  Beyaz  \n2          Android               12.5          6.0    Gri  ",
      "text/html": "<div>\n<style scoped>\n    .dataframe tbody tr th:only-of-type {\n        vertical-align: middle;\n    }\n\n    .dataframe tbody tr th {\n        vertical-align: top;\n    }\n\n    .dataframe thead th {\n        text-align: right;\n    }\n</style>\n<table border=\"1\" class=\"dataframe\">\n  <thead>\n    <tr style=\"text-align: right;\">\n      <th></th>\n      <th>Model</th>\n      <th>Brand</th>\n      <th>Price</th>\n      <th>CPU</th>\n      <th>RAM</th>\n      <th>Storage</th>\n      <th>Operating System</th>\n      <th>Camera Resolution</th>\n      <th>Screen Size</th>\n      <th>Color</th>\n    </tr>\n  </thead>\n  <tbody>\n    <tr>\n      <th>0</th>\n      <td>Y21 4gb/64gb</td>\n      <td>İNOVELSTORE</td>\n      <td>3399</td>\n      <td>NaN</td>\n      <td>4.0</td>\n      <td>64.0</td>\n      <td>Android</td>\n      <td>NaN</td>\n      <td>NaN</td>\n      <td>Mavi</td>\n    </tr>\n    <tr>\n      <th>1</th>\n      <td>Y21 V2111</td>\n      <td>Çimenli İletişim</td>\n      <td>3327</td>\n      <td>NaN</td>\n      <td>4.0</td>\n      <td>64.0</td>\n      <td>Android</td>\n      <td>NaN</td>\n      <td>NaN</td>\n      <td>Beyaz</td>\n    </tr>\n    <tr>\n      <th>2</th>\n      <td>1S 2020</td>\n      <td>Alcatel</td>\n      <td>2069</td>\n      <td>1.5-2.0</td>\n      <td>3.0</td>\n      <td>32.0</td>\n      <td>Android</td>\n      <td>12.5</td>\n      <td>6.0</td>\n      <td>Gri</td>\n    </tr>\n  </tbody>\n</table>\n</div>"
     },
     "execution_count": 6,
     "metadata": {},
     "output_type": "execute_result"
    }
   ],
   "source": [
    "df.drop(columns=['Unnamed: 0','Link','Battery Power'], axis= 1, inplace=True)            ## Drop unused columns\n",
    "df.head(3)"
   ]
  },
  {
   "cell_type": "code",
   "execution_count": 7,
   "id": "967498bf",
   "metadata": {
    "pycharm": {
     "name": "#%%\n"
    }
   },
   "outputs": [
    {
     "name": "stdout",
     "output_type": "stream",
     "text": [
      "<class 'pandas.core.frame.DataFrame'>\n",
      "RangeIndex: 1176 entries, 0 to 1175\n",
      "Data columns (total 10 columns):\n",
      " #   Column             Non-Null Count  Dtype  \n",
      "---  ------             --------------  -----  \n",
      " 0   Model              1176 non-null   object \n",
      " 1   Brand              1176 non-null   object \n",
      " 2   Price              1176 non-null   int64  \n",
      " 3   CPU                482 non-null    object \n",
      " 4   RAM                1156 non-null   float64\n",
      " 5   Storage            1147 non-null   float64\n",
      " 6   Operating System   1166 non-null   object \n",
      " 7   Camera Resolution  872 non-null    float64\n",
      " 8   Screen Size        807 non-null    float64\n",
      " 9   Color              1118 non-null   object \n",
      "dtypes: float64(4), int64(1), object(5)\n",
      "memory usage: 92.0+ KB\n"
     ]
    }
   ],
   "source": [
    "df.info()             ## see the null values and data types."
   ]
  },
  {
   "cell_type": "markdown",
   "id": "b0710c38",
   "metadata": {
    "pycharm": {
     "name": "#%% md\n"
    }
   },
   "source": [
    "### Fill missing values"
   ]
  },
  {
   "cell_type": "markdown",
   "id": "7f576e41",
   "metadata": {
    "pycharm": {
     "name": "#%% md\n"
    }
   },
   "source": [
    "There are a lot of missing values but it is easy to fill the missing values by googling the hardware specifications of smartphone models. Same models generally have the same hardware. If possible, this should be considered as a way to impute missing values rather than blindly dropping, or filling the nulls with mean,mode values. It is a version of filling the nulls with mode of the dataset."
   ]
  },
  {
   "cell_type": "code",
   "execution_count": 8,
   "id": "fd2ca1e3",
   "metadata": {
    "pycharm": {
     "name": "#%%\n"
    }
   },
   "outputs": [],
   "source": [
    "## Get indices for the rows of apple iphone 13 models with null cpu column\n",
    "\n",
    "pp = df.loc[(df.Brand=='Apple')& (df.CPU.isna()==True)&(df.Model.str.contains('13')==True),'Model'].index"
   ]
  },
  {
   "cell_type": "code",
   "execution_count": 9,
   "id": "defecebc",
   "metadata": {
    "pycharm": {
     "name": "#%%\n"
    }
   },
   "outputs": [],
   "source": [
    "## insert a specific value for the indices defined in the cell above.\n",
    "df.loc[pp,'CPU'] = 3.2      "
   ]
  },
  {
   "cell_type": "code",
   "execution_count": 10,
   "id": "2bd522c1",
   "metadata": {
    "pycharm": {
     "name": "#%%\n"
    }
   },
   "outputs": [],
   "source": [
    "## Get indices for the rows of apple iphone S models with null cpu column\n",
    "rr = df.loc[(df.Brand=='Apple')& (df.CPU.isna()==True)&(df.Model.str.contains('S')),'Model'].index\n",
    "## insert a specific value for the indices defined above.\n",
    "df.loc[rr,'CPU'] = 2.6"
   ]
  },
  {
   "cell_type": "code",
   "execution_count": 11,
   "id": "f82e8766",
   "metadata": {
    "pycharm": {
     "name": "#%%\n"
    }
   },
   "outputs": [
    {
     "data": {
      "text/plain": "               Model  Brand  Price  CPU  RAM  Storage Operating System  \\\n92         Iphone 12  Apple  27999  3.2  6.0    128.0          Android   \n144        Iphone 12  Apple  32599  3.2  3.0    256.0              iOS   \n146        İphone 12  Apple  30000  3.2  6.0    128.0              iOS   \n179        Iphone 12  Apple  18972  3.2  4.0     64.0              iOS   \n192  Iphone se 128gb  Apple  11949  3.2  3.0    128.0              iOS   \n195        Iphone 12  Apple  22249  3.2  4.0    256.0              iOS   \n\n     Camera Resolution  Screen Size Color  \n92                 NaN         6.25   Sar  \n144               50.0          NaN     G  \n146               12.5         6.25     G  \n179               12.5         6.25   Mor  \n192               12.5          NaN     K  \n195               12.5         6.25    Ye  ",
      "text/html": "<div>\n<style scoped>\n    .dataframe tbody tr th:only-of-type {\n        vertical-align: middle;\n    }\n\n    .dataframe tbody tr th {\n        vertical-align: top;\n    }\n\n    .dataframe thead th {\n        text-align: right;\n    }\n</style>\n<table border=\"1\" class=\"dataframe\">\n  <thead>\n    <tr style=\"text-align: right;\">\n      <th></th>\n      <th>Model</th>\n      <th>Brand</th>\n      <th>Price</th>\n      <th>CPU</th>\n      <th>RAM</th>\n      <th>Storage</th>\n      <th>Operating System</th>\n      <th>Camera Resolution</th>\n      <th>Screen Size</th>\n      <th>Color</th>\n    </tr>\n  </thead>\n  <tbody>\n    <tr>\n      <th>92</th>\n      <td>Iphone 12</td>\n      <td>Apple</td>\n      <td>27999</td>\n      <td>3.2</td>\n      <td>6.0</td>\n      <td>128.0</td>\n      <td>Android</td>\n      <td>NaN</td>\n      <td>6.25</td>\n      <td>Sar</td>\n    </tr>\n    <tr>\n      <th>144</th>\n      <td>Iphone 12</td>\n      <td>Apple</td>\n      <td>32599</td>\n      <td>3.2</td>\n      <td>3.0</td>\n      <td>256.0</td>\n      <td>iOS</td>\n      <td>50.0</td>\n      <td>NaN</td>\n      <td>G</td>\n    </tr>\n    <tr>\n      <th>146</th>\n      <td>İphone 12</td>\n      <td>Apple</td>\n      <td>30000</td>\n      <td>3.2</td>\n      <td>6.0</td>\n      <td>128.0</td>\n      <td>iOS</td>\n      <td>12.5</td>\n      <td>6.25</td>\n      <td>G</td>\n    </tr>\n    <tr>\n      <th>179</th>\n      <td>Iphone 12</td>\n      <td>Apple</td>\n      <td>18972</td>\n      <td>3.2</td>\n      <td>4.0</td>\n      <td>64.0</td>\n      <td>iOS</td>\n      <td>12.5</td>\n      <td>6.25</td>\n      <td>Mor</td>\n    </tr>\n    <tr>\n      <th>192</th>\n      <td>Iphone se 128gb</td>\n      <td>Apple</td>\n      <td>11949</td>\n      <td>3.2</td>\n      <td>3.0</td>\n      <td>128.0</td>\n      <td>iOS</td>\n      <td>12.5</td>\n      <td>NaN</td>\n      <td>K</td>\n    </tr>\n    <tr>\n      <th>195</th>\n      <td>Iphone 12</td>\n      <td>Apple</td>\n      <td>22249</td>\n      <td>3.2</td>\n      <td>4.0</td>\n      <td>256.0</td>\n      <td>iOS</td>\n      <td>12.5</td>\n      <td>6.25</td>\n      <td>Ye</td>\n    </tr>\n  </tbody>\n</table>\n</div>"
     },
     "execution_count": 11,
     "metadata": {},
     "output_type": "execute_result"
    }
   ],
   "source": [
    "## Get indices for the rows of apple iphone 12 models with null cpu column\n",
    "tt = df.loc[(df.Brand=='Apple')& (df.CPU.isna()==True)&(df.Model.str.contains('12')),'Model'].index\n",
    "## insert a specific value for the indices defined above.\n",
    "df.loc[tt,'CPU'] = 3.2\n",
    "df.loc[tt]"
   ]
  },
  {
   "cell_type": "code",
   "execution_count": 12,
   "id": "6d69b22a",
   "metadata": {
    "pycharm": {
     "name": "#%%\n"
    }
   },
   "outputs": [],
   "source": [
    "df.loc[(df.Brand=='Apple')& (df.CPU.isna()==True),'CPU'] = 2.8"
   ]
  },
  {
   "cell_type": "code",
   "execution_count": 13,
   "id": "3750ed88",
   "metadata": {
    "pycharm": {
     "name": "#%%\n"
    }
   },
   "outputs": [
    {
     "data": {
      "text/plain": "            Brand  Price  CPU  RAM  Storage  Operating System  \\\nModel                                                           \nGalaxy S22     20     20    0   20       20                20   \nGalaxy S21     11     11    0   11       11                11   \nGalaxy Z       11     11    0   11       11                11   \nGalaxy A13      9      9    0    9        9                 9   \nGalaxy A22      9      9    0    9        9                 9   \n\n            Camera Resolution  Screen Size  Color  \nModel                                              \nGalaxy S22                 16            0     20  \nGalaxy S21                  8            1      7  \nGalaxy Z                    2            0     11  \nGalaxy A13                  8            2      9  \nGalaxy A22                  8            0      8  ",
      "text/html": "<div>\n<style scoped>\n    .dataframe tbody tr th:only-of-type {\n        vertical-align: middle;\n    }\n\n    .dataframe tbody tr th {\n        vertical-align: top;\n    }\n\n    .dataframe thead th {\n        text-align: right;\n    }\n</style>\n<table border=\"1\" class=\"dataframe\">\n  <thead>\n    <tr style=\"text-align: right;\">\n      <th></th>\n      <th>Brand</th>\n      <th>Price</th>\n      <th>CPU</th>\n      <th>RAM</th>\n      <th>Storage</th>\n      <th>Operating System</th>\n      <th>Camera Resolution</th>\n      <th>Screen Size</th>\n      <th>Color</th>\n    </tr>\n    <tr>\n      <th>Model</th>\n      <th></th>\n      <th></th>\n      <th></th>\n      <th></th>\n      <th></th>\n      <th></th>\n      <th></th>\n      <th></th>\n      <th></th>\n    </tr>\n  </thead>\n  <tbody>\n    <tr>\n      <th>Galaxy S22</th>\n      <td>20</td>\n      <td>20</td>\n      <td>0</td>\n      <td>20</td>\n      <td>20</td>\n      <td>20</td>\n      <td>16</td>\n      <td>0</td>\n      <td>20</td>\n    </tr>\n    <tr>\n      <th>Galaxy S21</th>\n      <td>11</td>\n      <td>11</td>\n      <td>0</td>\n      <td>11</td>\n      <td>11</td>\n      <td>11</td>\n      <td>8</td>\n      <td>1</td>\n      <td>7</td>\n    </tr>\n    <tr>\n      <th>Galaxy Z</th>\n      <td>11</td>\n      <td>11</td>\n      <td>0</td>\n      <td>11</td>\n      <td>11</td>\n      <td>11</td>\n      <td>2</td>\n      <td>0</td>\n      <td>11</td>\n    </tr>\n    <tr>\n      <th>Galaxy A13</th>\n      <td>9</td>\n      <td>9</td>\n      <td>0</td>\n      <td>9</td>\n      <td>9</td>\n      <td>9</td>\n      <td>8</td>\n      <td>2</td>\n      <td>9</td>\n    </tr>\n    <tr>\n      <th>Galaxy A22</th>\n      <td>9</td>\n      <td>9</td>\n      <td>0</td>\n      <td>9</td>\n      <td>9</td>\n      <td>9</td>\n      <td>8</td>\n      <td>0</td>\n      <td>8</td>\n    </tr>\n  </tbody>\n</table>\n</div>"
     },
     "execution_count": 13,
     "metadata": {},
     "output_type": "execute_result"
    }
   ],
   "source": [
    "df.loc[(df.Brand=='Samsung')&(df.CPU.isna()==True)].groupby('Model').count().sort_values('Brand',ascending=False).head()"
   ]
  },
  {
   "cell_type": "code",
   "execution_count": 14,
   "id": "c224c4fa",
   "metadata": {
    "pycharm": {
     "name": "#%%\n"
    }
   },
   "outputs": [],
   "source": [
    "## impute values for specific phone models. the inputs are checked online\n",
    "\n",
    "df.loc[(df.Brand=='Samsung')&(df.CPU.isna()==True)&(df.Model=='Galaxy S22'),'CPU'] = 2.8\n",
    "df.loc[(df.Brand=='Samsung')&(df.CPU.isna()==True)&(df.Model=='Galaxy S21'),'CPU'] = 2.8\n",
    "df.loc[(df.Brand=='Samsung')&(df.CPU.isna()==True)&(df.Model=='Galaxy Z'),'CPU'] = 2.8\n",
    "df.loc[(df.Brand=='Samsung')&(df.CPU.isna()==True)&(df.Model=='Galaxy A73'),'CPU'] = 2.4\n",
    "df.loc[(df.Brand=='Samsung')&(df.CPU.isna()==True)&(df.Model=='Galaxy A13'),'CPU'] = 2.2 \n",
    "df.loc[(df.Brand=='Samsung')&(df.CPU.isna()==True)&(df.Model=='Galaxy A22'),'CPU'] = 2.2\n",
    "df.loc[(df.Brand=='Samsung')&(df.CPU.isna()==True)&(df.Model=='Galaxy S22+'),'CPU'] = 2.8\n",
    "df.loc[(df.Brand=='Samsung')&(df.CPU.isna()==True)&(df.Model=='Galaxy A12'),'CPU'] = 2.3\n",
    "df.loc[(df.Brand=='Samsung')&(df.CPU.isna()==True)&(df.Model=='Galaxy A52s'),'CPU'] = 2.4\n",
    "df.loc[(df.Brand=='Samsung')&(df.CPU.isna()==True)&(df.Model=='Galaxy Note20'),'CPU'] = 2.6\n",
    "df.loc[(df.Brand=='Samsung')&(df.CPU.isna()==True)&(df.Model=='Galaxy A03s'),'CPU'] = 2.3\n",
    "df.loc[(df.Brand=='Samsung')&(df.CPU.isna()==True)&(df.Model=='Galaxy J1'),'CPU'] = 1.3\n",
    "df.loc[(df.Brand=='Samsung')&(df.CPU.isna()==True)&(df.Model=='Galaxy A33'),'CPU'] = 2.4\n",
    "df.loc[(df.Brand=='Samsung')&(df.CPU.isna()==True)&(df.Model=='Galaxy S20'),'CPU'] = 2.8\n",
    "df.loc[(df.Brand=='Samsung')&(df.CPU.isna()==True)&(df.Model=='Galaxy A23'),'CPU'] = 2.4\n",
    "df.loc[(df.Brand=='Samsung')&(df.CPU.isna()==True)&(df.Model=='Galaxy A51'),'CPU'] = 2.3\n",
    "df.loc[(df.Brand=='Samsung')&(df.CPU.isna()==True)&(df.Model=='Galaxy A53'),'CPU'] = 2.4"
   ]
  },
  {
   "cell_type": "code",
   "execution_count": 15,
   "id": "7269dcb6",
   "metadata": {
    "pycharm": {
     "name": "#%%\n"
    }
   },
   "outputs": [],
   "source": [
    "df.CPU.replace(['0.5-1.0','1.5-2.0','1.0-1.5','2.5-3.2', '2.0-2.5'],[0.8,1.8,1.3,2.8,2.3],inplace=True)"
   ]
  },
  {
   "cell_type": "code",
   "execution_count": 16,
   "id": "d68e9e7a",
   "metadata": {
    "scrolled": true,
    "pycharm": {
     "name": "#%%\n"
    }
   },
   "outputs": [
    {
     "data": {
      "text/plain": "             Brand  Price  CPU  RAM  Storage  Operating System  \\\nModel                                                            \nRedmi Note      40     40    6   39       39                40   \nP13 Blue        13     13    0   12       13                13   \nIphone 13       13     13   13   13       13                13   \nGalaxy Z         9      9    9    9        9                 9   \nGm 22            8      8    0    8        8                 8   \n...            ...    ...  ...  ...      ...               ...   \nHiking A27       1      1    0    1        1                 1   \nGt Master        1      1    0    1        1                 1   \nGalaxy S22+      1      1    1    1        1                 1   \nGalaxy J4        1      1    1    1        1                 1   \niPhone XS        1      1    1    1        1                 1   \n\n             Camera Resolution  Screen Size  Color  \nModel                                               \nRedmi Note                   0           19     37  \nP13 Blue                     0            6     13  \nIphone 13                    0           10      8  \nGalaxy Z                     0            0      9  \nGm 22                        0            0      8  \n...                        ...          ...    ...  \nHiking A27                   0            0      1  \nGt Master                    0            1      1  \nGalaxy S22+                  0            1      1  \nGalaxy J4                    0            1      1  \niPhone XS                    0            1      1  \n\n[135 rows x 9 columns]",
      "text/html": "<div>\n<style scoped>\n    .dataframe tbody tr th:only-of-type {\n        vertical-align: middle;\n    }\n\n    .dataframe tbody tr th {\n        vertical-align: top;\n    }\n\n    .dataframe thead th {\n        text-align: right;\n    }\n</style>\n<table border=\"1\" class=\"dataframe\">\n  <thead>\n    <tr style=\"text-align: right;\">\n      <th></th>\n      <th>Brand</th>\n      <th>Price</th>\n      <th>CPU</th>\n      <th>RAM</th>\n      <th>Storage</th>\n      <th>Operating System</th>\n      <th>Camera Resolution</th>\n      <th>Screen Size</th>\n      <th>Color</th>\n    </tr>\n    <tr>\n      <th>Model</th>\n      <th></th>\n      <th></th>\n      <th></th>\n      <th></th>\n      <th></th>\n      <th></th>\n      <th></th>\n      <th></th>\n      <th></th>\n    </tr>\n  </thead>\n  <tbody>\n    <tr>\n      <th>Redmi Note</th>\n      <td>40</td>\n      <td>40</td>\n      <td>6</td>\n      <td>39</td>\n      <td>39</td>\n      <td>40</td>\n      <td>0</td>\n      <td>19</td>\n      <td>37</td>\n    </tr>\n    <tr>\n      <th>P13 Blue</th>\n      <td>13</td>\n      <td>13</td>\n      <td>0</td>\n      <td>12</td>\n      <td>13</td>\n      <td>13</td>\n      <td>0</td>\n      <td>6</td>\n      <td>13</td>\n    </tr>\n    <tr>\n      <th>Iphone 13</th>\n      <td>13</td>\n      <td>13</td>\n      <td>13</td>\n      <td>13</td>\n      <td>13</td>\n      <td>13</td>\n      <td>0</td>\n      <td>10</td>\n      <td>8</td>\n    </tr>\n    <tr>\n      <th>Galaxy Z</th>\n      <td>9</td>\n      <td>9</td>\n      <td>9</td>\n      <td>9</td>\n      <td>9</td>\n      <td>9</td>\n      <td>0</td>\n      <td>0</td>\n      <td>9</td>\n    </tr>\n    <tr>\n      <th>Gm 22</th>\n      <td>8</td>\n      <td>8</td>\n      <td>0</td>\n      <td>8</td>\n      <td>8</td>\n      <td>8</td>\n      <td>0</td>\n      <td>0</td>\n      <td>8</td>\n    </tr>\n    <tr>\n      <th>...</th>\n      <td>...</td>\n      <td>...</td>\n      <td>...</td>\n      <td>...</td>\n      <td>...</td>\n      <td>...</td>\n      <td>...</td>\n      <td>...</td>\n      <td>...</td>\n    </tr>\n    <tr>\n      <th>Hiking A27</th>\n      <td>1</td>\n      <td>1</td>\n      <td>0</td>\n      <td>1</td>\n      <td>1</td>\n      <td>1</td>\n      <td>0</td>\n      <td>0</td>\n      <td>1</td>\n    </tr>\n    <tr>\n      <th>Gt Master</th>\n      <td>1</td>\n      <td>1</td>\n      <td>0</td>\n      <td>1</td>\n      <td>1</td>\n      <td>1</td>\n      <td>0</td>\n      <td>1</td>\n      <td>1</td>\n    </tr>\n    <tr>\n      <th>Galaxy S22+</th>\n      <td>1</td>\n      <td>1</td>\n      <td>1</td>\n      <td>1</td>\n      <td>1</td>\n      <td>1</td>\n      <td>0</td>\n      <td>1</td>\n      <td>1</td>\n    </tr>\n    <tr>\n      <th>Galaxy J4</th>\n      <td>1</td>\n      <td>1</td>\n      <td>1</td>\n      <td>1</td>\n      <td>1</td>\n      <td>1</td>\n      <td>0</td>\n      <td>1</td>\n      <td>1</td>\n    </tr>\n    <tr>\n      <th>iPhone XS</th>\n      <td>1</td>\n      <td>1</td>\n      <td>1</td>\n      <td>1</td>\n      <td>1</td>\n      <td>1</td>\n      <td>0</td>\n      <td>1</td>\n      <td>1</td>\n    </tr>\n  </tbody>\n</table>\n<p>135 rows × 9 columns</p>\n</div>"
     },
     "execution_count": 16,
     "metadata": {},
     "output_type": "execute_result"
    }
   ],
   "source": [
    "df.loc[df['Camera Resolution'].isna()==True].groupby('Model').count().sort_values('Brand',ascending=False)"
   ]
  },
  {
   "cell_type": "code",
   "execution_count": 17,
   "id": "752d2dfe",
   "metadata": {
    "pycharm": {
     "name": "#%%\n"
    }
   },
   "outputs": [],
   "source": [
    "tt=df[df.Model=='Redmi Note'].index                ## get the index numbers of the this model"
   ]
  },
  {
   "cell_type": "code",
   "execution_count": 18,
   "id": "cc4194b3",
   "metadata": {
    "pycharm": {
     "name": "#%%\n"
    }
   },
   "outputs": [],
   "source": [
    "df.loc[tt,'CPU'] = 2.3                              ## change the CPU values of this model. "
   ]
  },
  {
   "cell_type": "code",
   "execution_count": 19,
   "id": "c2428d14",
   "metadata": {
    "pycharm": {
     "name": "#%%\n"
    }
   },
   "outputs": [],
   "source": [
    "df.loc[(df.Model=='P13 Blue')&(df.CPU.isna()==True),'CPU']=2.4                "
   ]
  },
  {
   "cell_type": "code",
   "execution_count": 20,
   "id": "a9a44959",
   "metadata": {
    "pycharm": {
     "name": "#%%\n"
    }
   },
   "outputs": [],
   "source": [
    "df.loc[(df.Model=='Redmi Note')&(df['Camera Resolution'].isna()==True),'Camera Resolution'] = 48"
   ]
  },
  {
   "cell_type": "code",
   "execution_count": 21,
   "id": "e4f57c0a",
   "metadata": {
    "pycharm": {
     "name": "#%%\n"
    }
   },
   "outputs": [],
   "source": [
    "df.loc[(df.Model=='Iphone 13')&(df['Camera Resolution'].isna()==True),'Camera Resolution'] = 12"
   ]
  },
  {
   "cell_type": "code",
   "execution_count": 22,
   "id": "e2bc9154",
   "metadata": {
    "pycharm": {
     "name": "#%%\n"
    }
   },
   "outputs": [
    {
     "name": "stdout",
     "output_type": "stream",
     "text": [
      "<class 'pandas.core.frame.DataFrame'>\n",
      "RangeIndex: 1176 entries, 0 to 1175\n",
      "Data columns (total 10 columns):\n",
      " #   Column             Non-Null Count  Dtype  \n",
      "---  ------             --------------  -----  \n",
      " 0   Model              1176 non-null   object \n",
      " 1   Brand              1176 non-null   object \n",
      " 2   Price              1176 non-null   int64  \n",
      " 3   CPU                812 non-null    float64\n",
      " 4   RAM                1156 non-null   float64\n",
      " 5   Storage            1147 non-null   float64\n",
      " 6   Operating System   1166 non-null   object \n",
      " 7   Camera Resolution  925 non-null    float64\n",
      " 8   Screen Size        807 non-null    float64\n",
      " 9   Color              1118 non-null   object \n",
      "dtypes: float64(5), int64(1), object(4)\n",
      "memory usage: 92.0+ KB\n"
     ]
    }
   ],
   "source": [
    "df.info()"
   ]
  },
  {
   "cell_type": "code",
   "execution_count": 23,
   "id": "9937e079",
   "metadata": {
    "pycharm": {
     "name": "#%%\n"
    }
   },
   "outputs": [
    {
     "data": {
      "text/plain": "            Brand  Price  CPU  RAM  Storage  Operating System  \\\nModel                                                           \nRedmi Note     30     30   30   30       30                30   \nGalaxy S22     20     20   20   20       20                20   \nGalaxy Z       11     11   11   11       11                11   \nP13 Blue       11     11   11   11       11                11   \nGalaxy S21     10     10   10   10       10                10   \n\n            Camera Resolution  Screen Size  Color  \nModel                                              \nRedmi Note                 30            0     28  \nGalaxy S22                 16            0     20  \nGalaxy Z                    2            0     11  \nP13 Blue                    4            0     11  \nGalaxy S21                  8            0      6  ",
      "text/html": "<div>\n<style scoped>\n    .dataframe tbody tr th:only-of-type {\n        vertical-align: middle;\n    }\n\n    .dataframe tbody tr th {\n        vertical-align: top;\n    }\n\n    .dataframe thead th {\n        text-align: right;\n    }\n</style>\n<table border=\"1\" class=\"dataframe\">\n  <thead>\n    <tr style=\"text-align: right;\">\n      <th></th>\n      <th>Brand</th>\n      <th>Price</th>\n      <th>CPU</th>\n      <th>RAM</th>\n      <th>Storage</th>\n      <th>Operating System</th>\n      <th>Camera Resolution</th>\n      <th>Screen Size</th>\n      <th>Color</th>\n    </tr>\n    <tr>\n      <th>Model</th>\n      <th></th>\n      <th></th>\n      <th></th>\n      <th></th>\n      <th></th>\n      <th></th>\n      <th></th>\n      <th></th>\n      <th></th>\n    </tr>\n  </thead>\n  <tbody>\n    <tr>\n      <th>Redmi Note</th>\n      <td>30</td>\n      <td>30</td>\n      <td>30</td>\n      <td>30</td>\n      <td>30</td>\n      <td>30</td>\n      <td>30</td>\n      <td>0</td>\n      <td>28</td>\n    </tr>\n    <tr>\n      <th>Galaxy S22</th>\n      <td>20</td>\n      <td>20</td>\n      <td>20</td>\n      <td>20</td>\n      <td>20</td>\n      <td>20</td>\n      <td>16</td>\n      <td>0</td>\n      <td>20</td>\n    </tr>\n    <tr>\n      <th>Galaxy Z</th>\n      <td>11</td>\n      <td>11</td>\n      <td>11</td>\n      <td>11</td>\n      <td>11</td>\n      <td>11</td>\n      <td>2</td>\n      <td>0</td>\n      <td>11</td>\n    </tr>\n    <tr>\n      <th>P13 Blue</th>\n      <td>11</td>\n      <td>11</td>\n      <td>11</td>\n      <td>11</td>\n      <td>11</td>\n      <td>11</td>\n      <td>4</td>\n      <td>0</td>\n      <td>11</td>\n    </tr>\n    <tr>\n      <th>Galaxy S21</th>\n      <td>10</td>\n      <td>10</td>\n      <td>10</td>\n      <td>10</td>\n      <td>10</td>\n      <td>10</td>\n      <td>8</td>\n      <td>0</td>\n      <td>6</td>\n    </tr>\n  </tbody>\n</table>\n</div>"
     },
     "execution_count": 23,
     "metadata": {},
     "output_type": "execute_result"
    }
   ],
   "source": [
    "df[df['Screen Size'].isna()==True].groupby('Model').count().sort_values('CPU',ascending=False).head()"
   ]
  },
  {
   "cell_type": "code",
   "execution_count": 24,
   "id": "6ff2e638",
   "metadata": {
    "pycharm": {
     "name": "#%%\n"
    }
   },
   "outputs": [],
   "source": [
    "## impute values for specific phone models. the inputs are checked online\n",
    "\n",
    "df.loc[(df.Model=='Redmi Note')&(df['Screen Size'].isna()==True),'Screen Size'] = 6\n",
    "df.loc[(df.Model=='Galaxy S22')&(df['Screen Size'].isna()==True),'Screen Size'] = 6\n",
    "df.loc[(df.Model=='Galaxy S21')&(df['Screen Size'].isna()==True),'Screen Size'] = 6.2\n",
    "df.loc[(df.Model=='Galaxy Z')&(df['Screen Size'].isna()==True),'Screen Size'] = 6.7\n",
    "df.loc[(df.Model=='P13 Blue')&(df['Screen Size'].isna()==True),'Screen Size'] = 6.2\n",
    "df.loc[(df.Model=='iPhone SE')&(df['Screen Size'].isna()==True),'Screen Size'] = 4.7\n",
    "df.loc[(df.Model=='Galaxy A73')&(df['Screen Size'].isna()==True),'Screen Size'] = 6.7\n",
    "df.loc[(df.Model=='Galaxy A22')&(df['Screen Size'].isna()==True),'Screen Size'] = 6.4\n",
    "df.loc[(df.Model=='Galaxy S22+')&(df['Screen Size'].isna()==True),'Screen Size'] = 6.6"
   ]
  },
  {
   "cell_type": "code",
   "execution_count": 25,
   "id": "9f258bfc",
   "metadata": {
    "pycharm": {
     "name": "#%%\n"
    }
   },
   "outputs": [],
   "source": [
    "brands=df.groupby('Brand').count().sort_values('Model',ascending=False).index[:10]    ## get the names of the top 10 brands"
   ]
  },
  {
   "cell_type": "code",
   "execution_count": 26,
   "id": "c659fcec",
   "metadata": {
    "pycharm": {
     "name": "#%%\n"
    }
   },
   "outputs": [
    {
     "name": "stdout",
     "output_type": "stream",
     "text": [
      "<class 'pandas.core.frame.DataFrame'>\n",
      "Int64Index: 936 entries, 12 to 1160\n",
      "Data columns (total 10 columns):\n",
      " #   Column             Non-Null Count  Dtype  \n",
      "---  ------             --------------  -----  \n",
      " 0   Model              936 non-null    object \n",
      " 1   Brand              936 non-null    object \n",
      " 2   Price              936 non-null    int64  \n",
      " 3   CPU                727 non-null    float64\n",
      " 4   RAM                934 non-null    float64\n",
      " 5   Storage            928 non-null    float64\n",
      " 6   Operating System   934 non-null    object \n",
      " 7   Camera Resolution  744 non-null    float64\n",
      " 8   Screen Size        772 non-null    float64\n",
      " 9   Color              883 non-null    object \n",
      "dtypes: float64(5), int64(1), object(4)\n",
      "memory usage: 80.4+ KB\n"
     ]
    }
   ],
   "source": [
    "df1 =df.loc[df.Brand.isin(brands)==True]                          ## Create a data frame with only the top 10 brands\n",
    "df1.info() "
   ]
  },
  {
   "cell_type": "code",
   "execution_count": 27,
   "id": "3dbac8cd",
   "metadata": {
    "pycharm": {
     "name": "#%%\n"
    }
   },
   "outputs": [],
   "source": [
    "## convert Turkish words into English \n",
    "ders = {'Siyah':'Black','Mavi':'Blue','Beyaz':'White','Ye':'Green','Gri':'Gray','Mor':'Purple','K':'Red',\n",
    "                  'Alt':'Golden','Pembe':'Pink','Sar':'Yellow','Turuncu':'Orange','Metalik':'Metallic','Lacivert':'Blue',\n",
    "                  'Turkuaz':'Turquoise','Bej':'Cream','Bordo':'Red','Kahverengi':'Brown'}\n"
   ]
  },
  {
   "cell_type": "code",
   "execution_count": 28,
   "id": "094177d4",
   "metadata": {
    "pycharm": {
     "name": "#%%\n"
    }
   },
   "outputs": [
    {
     "data": {
      "text/plain": "array(['Black', 'Blue', 'White', 'Green', 'Gray', 'Purple', 'Red',\n       'Golden', 'Pink', 'Yellow', 'Orange', 'Metallic', 'Blue',\n       'Turquoise', 'Cream', 'Red', 'Brown'], dtype=object)"
     },
     "execution_count": 28,
     "metadata": {},
     "output_type": "execute_result"
    }
   ],
   "source": [
    "a= pd.json_normalize(ders).columns\n",
    "b = pd.json_normalize(ders).T.iloc[:,0].values\n",
    "b"
   ]
  },
  {
   "cell_type": "code",
   "execution_count": 29,
   "id": "49d67a9c",
   "metadata": {
    "pycharm": {
     "name": "#%%\n"
    }
   },
   "outputs": [],
   "source": [
    "df.replace(a,b,inplace=True)              ## replace the Turkish values with the English ones."
   ]
  },
  {
   "cell_type": "code",
   "execution_count": 30,
   "id": "df20ba45",
   "metadata": {
    "pycharm": {
     "name": "#%%\n"
    }
   },
   "outputs": [
    {
     "data": {
      "text/plain": "       Model  Brand  Price  CPU  RAM  Storage  Operating System  \\\nColor                                                             \nBlack    270    270    270  172  261      260               268   \nBlue     266    266    266  172  265      265               266   \nWhite    157    157    157  119  154      148               153   \nGreen    119    119    119   93  118      118               119   \nGray     114    114    114   85  113      111               112   \n\n       Camera Resolution  Screen Size  \nColor                                  \nBlack                203          201  \nBlue                 217          204  \nWhite                130          126  \nGreen                 92          102  \nGray                  95           97  ",
      "text/html": "<div>\n<style scoped>\n    .dataframe tbody tr th:only-of-type {\n        vertical-align: middle;\n    }\n\n    .dataframe tbody tr th {\n        vertical-align: top;\n    }\n\n    .dataframe thead th {\n        text-align: right;\n    }\n</style>\n<table border=\"1\" class=\"dataframe\">\n  <thead>\n    <tr style=\"text-align: right;\">\n      <th></th>\n      <th>Model</th>\n      <th>Brand</th>\n      <th>Price</th>\n      <th>CPU</th>\n      <th>RAM</th>\n      <th>Storage</th>\n      <th>Operating System</th>\n      <th>Camera Resolution</th>\n      <th>Screen Size</th>\n    </tr>\n    <tr>\n      <th>Color</th>\n      <th></th>\n      <th></th>\n      <th></th>\n      <th></th>\n      <th></th>\n      <th></th>\n      <th></th>\n      <th></th>\n      <th></th>\n    </tr>\n  </thead>\n  <tbody>\n    <tr>\n      <th>Black</th>\n      <td>270</td>\n      <td>270</td>\n      <td>270</td>\n      <td>172</td>\n      <td>261</td>\n      <td>260</td>\n      <td>268</td>\n      <td>203</td>\n      <td>201</td>\n    </tr>\n    <tr>\n      <th>Blue</th>\n      <td>266</td>\n      <td>266</td>\n      <td>266</td>\n      <td>172</td>\n      <td>265</td>\n      <td>265</td>\n      <td>266</td>\n      <td>217</td>\n      <td>204</td>\n    </tr>\n    <tr>\n      <th>White</th>\n      <td>157</td>\n      <td>157</td>\n      <td>157</td>\n      <td>119</td>\n      <td>154</td>\n      <td>148</td>\n      <td>153</td>\n      <td>130</td>\n      <td>126</td>\n    </tr>\n    <tr>\n      <th>Green</th>\n      <td>119</td>\n      <td>119</td>\n      <td>119</td>\n      <td>93</td>\n      <td>118</td>\n      <td>118</td>\n      <td>119</td>\n      <td>92</td>\n      <td>102</td>\n    </tr>\n    <tr>\n      <th>Gray</th>\n      <td>114</td>\n      <td>114</td>\n      <td>114</td>\n      <td>85</td>\n      <td>113</td>\n      <td>111</td>\n      <td>112</td>\n      <td>95</td>\n      <td>97</td>\n    </tr>\n  </tbody>\n</table>\n</div>"
     },
     "execution_count": 30,
     "metadata": {},
     "output_type": "execute_result"
    }
   ],
   "source": [
    "df.groupby('Color').count().sort_values('Model',ascending=False).head(5)    ## get the color numbers and sort descending"
   ]
  },
  {
   "cell_type": "code",
   "execution_count": 31,
   "id": "a2c6f796",
   "metadata": {
    "pycharm": {
     "name": "#%%\n"
    }
   },
   "outputs": [
    {
     "data": {
      "text/plain": "         Model  Brand  CPU  RAM  Storage Operating System  Camera Resolution  \\\n12   iPhone 13  Apple  3.2  6.0    128.0              iOS                7.5   \n13   iPhone SE  Apple  1.8  2.0     64.0              iOS               12.5   \n14   iPhone 11  Apple  2.8  4.0    128.0              iOS               12.5   \n15   iPhone 11  Apple  2.8  4.0     64.0              iOS               12.5   \n16   iPhone 11  Apple  2.8  4.0    128.0              iOS               12.5   \n..         ...    ...  ...  ...      ...              ...                ...   \n107  iPhone 13  Apple  3.2  6.0    512.0              iOS                7.5   \n108  iPhone 13  Apple  3.2  6.0    512.0              iOS                7.5   \n109  Iphone 13  Apple  3.2  4.0    512.0              iOS               12.5   \n110  iPhone 12  Apple  2.8  6.0    512.0              iOS               12.5   \n111  iPhone 12  Apple  2.8  4.0    128.0              iOS               12.5   \n\n     Screen Size  Color  \n12          6.25      K  \n13          4.00  Siyah  \n14          6.00  Siyah  \n15          6.00    Mor  \n16          6.00  Beyaz  \n..           ...    ...  \n107         6.25  Siyah  \n108         6.25  Pembe  \n109         6.25     Ye  \n110         6.00    Alt  \n111        10.00      K  \n\n[100 rows x 9 columns]",
      "text/html": "<div>\n<style scoped>\n    .dataframe tbody tr th:only-of-type {\n        vertical-align: middle;\n    }\n\n    .dataframe tbody tr th {\n        vertical-align: top;\n    }\n\n    .dataframe thead th {\n        text-align: right;\n    }\n</style>\n<table border=\"1\" class=\"dataframe\">\n  <thead>\n    <tr style=\"text-align: right;\">\n      <th></th>\n      <th>Model</th>\n      <th>Brand</th>\n      <th>CPU</th>\n      <th>RAM</th>\n      <th>Storage</th>\n      <th>Operating System</th>\n      <th>Camera Resolution</th>\n      <th>Screen Size</th>\n      <th>Color</th>\n    </tr>\n  </thead>\n  <tbody>\n    <tr>\n      <th>12</th>\n      <td>iPhone 13</td>\n      <td>Apple</td>\n      <td>3.2</td>\n      <td>6.0</td>\n      <td>128.0</td>\n      <td>iOS</td>\n      <td>7.5</td>\n      <td>6.25</td>\n      <td>K</td>\n    </tr>\n    <tr>\n      <th>13</th>\n      <td>iPhone SE</td>\n      <td>Apple</td>\n      <td>1.8</td>\n      <td>2.0</td>\n      <td>64.0</td>\n      <td>iOS</td>\n      <td>12.5</td>\n      <td>4.00</td>\n      <td>Siyah</td>\n    </tr>\n    <tr>\n      <th>14</th>\n      <td>iPhone 11</td>\n      <td>Apple</td>\n      <td>2.8</td>\n      <td>4.0</td>\n      <td>128.0</td>\n      <td>iOS</td>\n      <td>12.5</td>\n      <td>6.00</td>\n      <td>Siyah</td>\n    </tr>\n    <tr>\n      <th>15</th>\n      <td>iPhone 11</td>\n      <td>Apple</td>\n      <td>2.8</td>\n      <td>4.0</td>\n      <td>64.0</td>\n      <td>iOS</td>\n      <td>12.5</td>\n      <td>6.00</td>\n      <td>Mor</td>\n    </tr>\n    <tr>\n      <th>16</th>\n      <td>iPhone 11</td>\n      <td>Apple</td>\n      <td>2.8</td>\n      <td>4.0</td>\n      <td>128.0</td>\n      <td>iOS</td>\n      <td>12.5</td>\n      <td>6.00</td>\n      <td>Beyaz</td>\n    </tr>\n    <tr>\n      <th>...</th>\n      <td>...</td>\n      <td>...</td>\n      <td>...</td>\n      <td>...</td>\n      <td>...</td>\n      <td>...</td>\n      <td>...</td>\n      <td>...</td>\n      <td>...</td>\n    </tr>\n    <tr>\n      <th>107</th>\n      <td>iPhone 13</td>\n      <td>Apple</td>\n      <td>3.2</td>\n      <td>6.0</td>\n      <td>512.0</td>\n      <td>iOS</td>\n      <td>7.5</td>\n      <td>6.25</td>\n      <td>Siyah</td>\n    </tr>\n    <tr>\n      <th>108</th>\n      <td>iPhone 13</td>\n      <td>Apple</td>\n      <td>3.2</td>\n      <td>6.0</td>\n      <td>512.0</td>\n      <td>iOS</td>\n      <td>7.5</td>\n      <td>6.25</td>\n      <td>Pembe</td>\n    </tr>\n    <tr>\n      <th>109</th>\n      <td>Iphone 13</td>\n      <td>Apple</td>\n      <td>3.2</td>\n      <td>4.0</td>\n      <td>512.0</td>\n      <td>iOS</td>\n      <td>12.5</td>\n      <td>6.25</td>\n      <td>Ye</td>\n    </tr>\n    <tr>\n      <th>110</th>\n      <td>iPhone 12</td>\n      <td>Apple</td>\n      <td>2.8</td>\n      <td>6.0</td>\n      <td>512.0</td>\n      <td>iOS</td>\n      <td>12.5</td>\n      <td>6.00</td>\n      <td>Alt</td>\n    </tr>\n    <tr>\n      <th>111</th>\n      <td>iPhone 12</td>\n      <td>Apple</td>\n      <td>2.8</td>\n      <td>4.0</td>\n      <td>128.0</td>\n      <td>iOS</td>\n      <td>12.5</td>\n      <td>10.00</td>\n      <td>K</td>\n    </tr>\n  </tbody>\n</table>\n<p>100 rows × 9 columns</p>\n</div>"
     },
     "execution_count": 31,
     "metadata": {},
     "output_type": "execute_result"
    }
   ],
   "source": [
    "df1.drop(columns='Price').head(100)"
   ]
  },
  {
   "cell_type": "code",
   "execution_count": 32,
   "id": "0bec663e",
   "metadata": {
    "pycharm": {
     "name": "#%%\n"
    }
   },
   "outputs": [],
   "source": [
    "## Standardize the model names, different capitalization and misspelings make the data look bad.\n",
    "df.loc[(df.Model.str.contains('13')==True)&(df.Brand=='Apple'),'Model']='iPhone 13'  "
   ]
  },
  {
   "cell_type": "code",
   "execution_count": 33,
   "id": "25c48570",
   "metadata": {
    "pycharm": {
     "name": "#%%\n"
    }
   },
   "outputs": [],
   "source": [
    "df1 =df.loc[df.Brand.isin(brands)==True]     "
   ]
  },
  {
   "cell_type": "code",
   "execution_count": 34,
   "id": "17f6abbc",
   "metadata": {
    "pycharm": {
     "name": "#%%\n"
    }
   },
   "outputs": [],
   "source": [
    "# df1.to_csv('smartphone_colors.csv')      ## save the dataframe before dropping the color column\n",
    "df1 = df1.drop(columns='Color')                   ##  Drop the color column\n",
    "   "
   ]
  },
  {
   "cell_type": "code",
   "execution_count": 35,
   "id": "0cb782a0",
   "metadata": {
    "pycharm": {
     "name": "#%%\n"
    }
   },
   "outputs": [
    {
     "data": {
      "text/plain": "<Figure size 432x288 with 2 Axes>",
      "image/png": "[encoded data removed]"
     },
     "metadata": {
      "needs_background": "light"
     },
     "output_type": "display_data"
    }
   ],
   "source": [
    "cor = df1.corr()                                  ## correlation martix\n",
    "sns.heatmap(cor,annot= True , cmap = 'viridis' ) \n",
    "plt.show()"
   ]
  },
  {
   "cell_type": "code",
   "execution_count": 39,
   "id": "2dc1e057",
   "metadata": {
    "pycharm": {
     "name": "#%%\n"
    }
   },
   "outputs": [],
   "source": [
    "df1.dropna(inplace=True)             ## drop the null values that are not filled by now."
   ]
  },
  {
   "cell_type": "markdown",
   "id": "b162dcdb",
   "metadata": {
    "pycharm": {
     "name": "#%% md\n"
    }
   },
   "source": [
    "### Select Features and Split the Data"
   ]
  },
  {
   "cell_type": "markdown",
   "id": "77eb2041",
   "metadata": {
    "pycharm": {
     "name": "#%% md\n"
    }
   },
   "source": [
    "I drop 'Model' and 'Color' column because I do not think these are not as effective as other features on price"
   ]
  },
  {
   "cell_type": "code",
   "execution_count": 40,
   "id": "c706a1cb",
   "metadata": {
    "pycharm": {
     "name": "#%%\n"
    }
   },
   "outputs": [
    {
     "data": {
      "text/plain": "       Brand  CPU  RAM  Storage Operating System  Camera Resolution  \\\n12     Apple  3.2  6.0    128.0              iOS                7.5   \n13     Apple  1.8  2.0     64.0              iOS               12.5   \n14     Apple  2.8  4.0    128.0              iOS               12.5   \n15     Apple  2.8  4.0     64.0              iOS               12.5   \n16     Apple  2.8  4.0    128.0              iOS               12.5   \n...      ...  ...  ...      ...              ...                ...   \n1154  Xiaomi  2.3  2.0     32.0          Android               12.5   \n1155  Xiaomi  2.3  3.0     64.0          Android               12.5   \n1156  Xiaomi  2.3  4.0    128.0          Android               50.0   \n1159  Xiaomi  2.3  4.0    128.0          Android               20.0   \n1160  Xiaomi  2.3  3.0     64.0          Android               12.5   \n\n      Screen Size  \n12           6.25  \n13           4.00  \n14           6.00  \n15           6.00  \n16           6.00  \n...           ...  \n1154         6.00  \n1155         6.00  \n1156         6.25  \n1159         6.00  \n1160         6.00  \n\n[602 rows x 7 columns]",
      "text/html": "<div>\n<style scoped>\n    .dataframe tbody tr th:only-of-type {\n        vertical-align: middle;\n    }\n\n    .dataframe tbody tr th {\n        vertical-align: top;\n    }\n\n    .dataframe thead th {\n        text-align: right;\n    }\n</style>\n<table border=\"1\" class=\"dataframe\">\n  <thead>\n    <tr style=\"text-align: right;\">\n      <th></th>\n      <th>Brand</th>\n      <th>CPU</th>\n      <th>RAM</th>\n      <th>Storage</th>\n      <th>Operating System</th>\n      <th>Camera Resolution</th>\n      <th>Screen Size</th>\n    </tr>\n  </thead>\n  <tbody>\n    <tr>\n      <th>12</th>\n      <td>Apple</td>\n      <td>3.2</td>\n      <td>6.0</td>\n      <td>128.0</td>\n      <td>iOS</td>\n      <td>7.5</td>\n      <td>6.25</td>\n    </tr>\n    <tr>\n      <th>13</th>\n      <td>Apple</td>\n      <td>1.8</td>\n      <td>2.0</td>\n      <td>64.0</td>\n      <td>iOS</td>\n      <td>12.5</td>\n      <td>4.00</td>\n    </tr>\n    <tr>\n      <th>14</th>\n      <td>Apple</td>\n      <td>2.8</td>\n      <td>4.0</td>\n      <td>128.0</td>\n      <td>iOS</td>\n      <td>12.5</td>\n      <td>6.00</td>\n    </tr>\n    <tr>\n      <th>15</th>\n      <td>Apple</td>\n      <td>2.8</td>\n      <td>4.0</td>\n      <td>64.0</td>\n      <td>iOS</td>\n      <td>12.5</td>\n      <td>6.00</td>\n    </tr>\n    <tr>\n      <th>16</th>\n      <td>Apple</td>\n      <td>2.8</td>\n      <td>4.0</td>\n      <td>128.0</td>\n      <td>iOS</td>\n      <td>12.5</td>\n      <td>6.00</td>\n    </tr>\n    <tr>\n      <th>...</th>\n      <td>...</td>\n      <td>...</td>\n      <td>...</td>\n      <td>...</td>\n      <td>...</td>\n      <td>...</td>\n      <td>...</td>\n    </tr>\n    <tr>\n      <th>1154</th>\n      <td>Xiaomi</td>\n      <td>2.3</td>\n      <td>2.0</td>\n      <td>32.0</td>\n      <td>Android</td>\n      <td>12.5</td>\n      <td>6.00</td>\n    </tr>\n    <tr>\n      <th>1155</th>\n      <td>Xiaomi</td>\n      <td>2.3</td>\n      <td>3.0</td>\n      <td>64.0</td>\n      <td>Android</td>\n      <td>12.5</td>\n      <td>6.00</td>\n    </tr>\n    <tr>\n      <th>1156</th>\n      <td>Xiaomi</td>\n      <td>2.3</td>\n      <td>4.0</td>\n      <td>128.0</td>\n      <td>Android</td>\n      <td>50.0</td>\n      <td>6.25</td>\n    </tr>\n    <tr>\n      <th>1159</th>\n      <td>Xiaomi</td>\n      <td>2.3</td>\n      <td>4.0</td>\n      <td>128.0</td>\n      <td>Android</td>\n      <td>20.0</td>\n      <td>6.00</td>\n    </tr>\n    <tr>\n      <th>1160</th>\n      <td>Xiaomi</td>\n      <td>2.3</td>\n      <td>3.0</td>\n      <td>64.0</td>\n      <td>Android</td>\n      <td>12.5</td>\n      <td>6.00</td>\n    </tr>\n  </tbody>\n</table>\n<p>602 rows × 7 columns</p>\n</div>"
     },
     "execution_count": 40,
     "metadata": {},
     "output_type": "execute_result"
    }
   ],
   "source": [
    "x= df1.drop(columns = ['Price','Model'])             ## split the features and the label \n",
    "x"
   ]
  },
  {
   "cell_type": "code",
   "execution_count": 41,
   "id": "e570f230",
   "metadata": {
    "pycharm": {
     "name": "#%%\n"
    }
   },
   "outputs": [],
   "source": [
    "le = LabelEncoder()                               ## call label encoder to convert the categorical data into numerical data\n",
    "x1 = le.fit_transform(x.Brand.values)              ## convert the brand column\n",
    "x2 = le.fit_transform(x['Operating System'].values)     ## conver the OS column"
   ]
  },
  {
   "cell_type": "code",
   "execution_count": 42,
   "id": "e9cfe768",
   "metadata": {
    "pycharm": {
     "name": "#%%\n"
    }
   },
   "outputs": [
    {
     "data": {
      "text/plain": "    Brand  CPU  RAM  Storage  Operating System  Camera Resolution  Screen Size\n12      0  3.2  6.0    128.0                 1                7.5         6.25\n13      0  1.8  2.0     64.0                 1               12.5         4.00\n14      0  2.8  4.0    128.0                 1               12.5         6.00",
      "text/html": "<div>\n<style scoped>\n    .dataframe tbody tr th:only-of-type {\n        vertical-align: middle;\n    }\n\n    .dataframe tbody tr th {\n        vertical-align: top;\n    }\n\n    .dataframe thead th {\n        text-align: right;\n    }\n</style>\n<table border=\"1\" class=\"dataframe\">\n  <thead>\n    <tr style=\"text-align: right;\">\n      <th></th>\n      <th>Brand</th>\n      <th>CPU</th>\n      <th>RAM</th>\n      <th>Storage</th>\n      <th>Operating System</th>\n      <th>Camera Resolution</th>\n      <th>Screen Size</th>\n    </tr>\n  </thead>\n  <tbody>\n    <tr>\n      <th>12</th>\n      <td>0</td>\n      <td>3.2</td>\n      <td>6.0</td>\n      <td>128.0</td>\n      <td>1</td>\n      <td>7.5</td>\n      <td>6.25</td>\n    </tr>\n    <tr>\n      <th>13</th>\n      <td>0</td>\n      <td>1.8</td>\n      <td>2.0</td>\n      <td>64.0</td>\n      <td>1</td>\n      <td>12.5</td>\n      <td>4.00</td>\n    </tr>\n    <tr>\n      <th>14</th>\n      <td>0</td>\n      <td>2.8</td>\n      <td>4.0</td>\n      <td>128.0</td>\n      <td>1</td>\n      <td>12.5</td>\n      <td>6.00</td>\n    </tr>\n  </tbody>\n</table>\n</div>"
     },
     "execution_count": 42,
     "metadata": {},
     "output_type": "execute_result"
    }
   ],
   "source": [
    "x.Brand = x1                              ## replace the columns with new format\n",
    "x['Operating System']  = x2    \n",
    "x.head(3)"
   ]
  },
  {
   "cell_type": "code",
   "execution_count": 43,
   "id": "96b020db",
   "metadata": {
    "pycharm": {
     "name": "#%%\n"
    }
   },
   "outputs": [],
   "source": [
    "y = df1.Price   ## define target column"
   ]
  },
  {
   "cell_type": "code",
   "execution_count": 44,
   "id": "04fe2ca0",
   "metadata": {
    "pycharm": {
     "name": "#%%\n"
    }
   },
   "outputs": [],
   "source": [
    "x_train,x_test,y_train,y_test=train_test_split(x,y,test_size=0.2, random_state=42)  ## split the data into test and train"
   ]
  },
  {
   "cell_type": "markdown",
   "id": "20b91ea5",
   "metadata": {
    "pycharm": {
     "name": "#%% md\n"
    }
   },
   "source": [
    "### XGBoost Regressor"
   ]
  },
  {
   "cell_type": "code",
   "execution_count": 45,
   "id": "892c9250",
   "metadata": {
    "pycharm": {
     "name": "#%%\n"
    }
   },
   "outputs": [],
   "source": [
    "model = xgb.XGBRegressor()       ##call the model"
   ]
  },
  {
   "cell_type": "code",
   "execution_count": 46,
   "id": "88a7c760",
   "metadata": {
    "pycharm": {
     "name": "#%%\n"
    }
   },
   "outputs": [],
   "source": [
    "params = {'max_depth' : [15,20,25],              ## define parameter values for tuning.\n",
    "         'learning_rate':[0.3,0.5,0.7],\n",
    "         'n_estimators':[300,400,500],\n",
    "          'min_child_weight':[6,8,10]\n",
    "         }"
   ]
  },
  {
   "cell_type": "code",
   "execution_count": 47,
   "id": "e70dbde8",
   "metadata": {
    "pycharm": {
     "name": "#%%\n"
    }
   },
   "outputs": [],
   "source": [
    "grid = GridSearchCV(model,param_grid=params,verbose=2,cv=3)    ## input the components and create a gridsearchcv module."
   ]
  },
  {
   "cell_type": "code",
   "execution_count": 48,
   "id": "825f147c",
   "metadata": {
    "scrolled": false,
    "pycharm": {
     "name": "#%%\n"
    }
   },
   "outputs": [
    {
     "name": "stdout",
     "output_type": "stream",
     "text": [
      "Fitting 3 folds for each of 81 candidates, totalling 243 fits\n",
      "[CV] END learning_rate=0.3, max_depth=15, min_child_weight=6, n_estimators=300; total time=   0.2s\n",
      "[CV] END learning_rate=0.3, max_depth=15, min_child_weight=6, n_estimators=300; total time=   0.2s\n",
      "[CV] END learning_rate=0.3, max_depth=15, min_child_weight=6, n_estimators=300; total time=   0.2s\n",
      "[CV] END learning_rate=0.3, max_depth=15, min_child_weight=6, n_estimators=400; total time=   0.2s\n",
      "[CV] END learning_rate=0.3, max_depth=15, min_child_weight=6, n_estimators=400; total time=   0.4s\n",
      "[CV] END learning_rate=0.3, max_depth=15, min_child_weight=6, n_estimators=400; total time=   0.3s\n",
      "[CV] END learning_rate=0.3, max_depth=15, min_child_weight=6, n_estimators=500; total time=   0.4s\n",
      "[CV] END learning_rate=0.3, max_depth=15, min_child_weight=6, n_estimators=500; total time=   0.5s\n",
      "[CV] END learning_rate=0.3, max_depth=15, min_child_weight=6, n_estimators=500; total time=   0.5s\n",
      "[CV] END learning_rate=0.3, max_depth=15, min_child_weight=8, n_estimators=300; total time=   0.2s\n",
      "[CV] END learning_rate=0.3, max_depth=15, min_child_weight=8, n_estimators=300; total time=   0.1s\n",
      "[CV] END learning_rate=0.3, max_depth=15, min_child_weight=8, n_estimators=300; total time=   0.1s\n",
      "[CV] END learning_rate=0.3, max_depth=15, min_child_weight=8, n_estimators=400; total time=   0.2s\n",
      "[CV] END learning_rate=0.3, max_depth=15, min_child_weight=8, n_estimators=400; total time=   0.1s\n",
      "[CV] END learning_rate=0.3, max_depth=15, min_child_weight=8, n_estimators=400; total time=   0.1s\n",
      "[CV] END learning_rate=0.3, max_depth=15, min_child_weight=8, n_estimators=500; total time=   0.2s\n",
      "[CV] END learning_rate=0.3, max_depth=15, min_child_weight=8, n_estimators=500; total time=   0.2s\n",
      "[CV] END learning_rate=0.3, max_depth=15, min_child_weight=8, n_estimators=500; total time=   0.2s\n",
      "[CV] END learning_rate=0.3, max_depth=15, min_child_weight=10, n_estimators=300; total time=   0.0s\n",
      "[CV] END learning_rate=0.3, max_depth=15, min_child_weight=10, n_estimators=300; total time=   0.0s\n",
      "[CV] END learning_rate=0.3, max_depth=15, min_child_weight=10, n_estimators=300; total time=   0.0s\n",
      "[CV] END learning_rate=0.3, max_depth=15, min_child_weight=10, n_estimators=400; total time=   0.1s\n",
      "[CV] END learning_rate=0.3, max_depth=15, min_child_weight=10, n_estimators=400; total time=   0.2s\n",
      "[CV] END learning_rate=0.3, max_depth=15, min_child_weight=10, n_estimators=400; total time=   0.2s\n",
      "[CV] END learning_rate=0.3, max_depth=15, min_child_weight=10, n_estimators=500; total time=   0.2s\n",
      "[CV] END learning_rate=0.3, max_depth=15, min_child_weight=10, n_estimators=500; total time=   0.2s\n",
      "[CV] END learning_rate=0.3, max_depth=15, min_child_weight=10, n_estimators=500; total time=   0.2s\n",
      "[CV] END learning_rate=0.3, max_depth=20, min_child_weight=6, n_estimators=300; total time=   0.1s\n",
      "[CV] END learning_rate=0.3, max_depth=20, min_child_weight=6, n_estimators=300; total time=   0.1s\n",
      "[CV] END learning_rate=0.3, max_depth=20, min_child_weight=6, n_estimators=300; total time=   0.1s\n",
      "[CV] END learning_rate=0.3, max_depth=20, min_child_weight=6, n_estimators=400; total time=   0.1s\n",
      "[CV] END learning_rate=0.3, max_depth=20, min_child_weight=6, n_estimators=400; total time=   0.1s\n",
      "[CV] END learning_rate=0.3, max_depth=20, min_child_weight=6, n_estimators=400; total time=   0.1s\n",
      "[CV] END learning_rate=0.3, max_depth=20, min_child_weight=6, n_estimators=500; total time=   0.2s\n",
      "[CV] END learning_rate=0.3, max_depth=20, min_child_weight=6, n_estimators=500; total time=   0.2s\n",
      "[CV] END learning_rate=0.3, max_depth=20, min_child_weight=6, n_estimators=500; total time=   0.2s\n",
      "[CV] END learning_rate=0.3, max_depth=20, min_child_weight=8, n_estimators=300; total time=   0.0s\n",
      "[CV] END learning_rate=0.3, max_depth=20, min_child_weight=8, n_estimators=300; total time=   0.1s\n",
      "[CV] END learning_rate=0.3, max_depth=20, min_child_weight=8, n_estimators=300; total time=   0.0s\n",
      "[CV] END learning_rate=0.3, max_depth=20, min_child_weight=8, n_estimators=400; total time=   0.1s\n",
      "[CV] END learning_rate=0.3, max_depth=20, min_child_weight=8, n_estimators=400; total time=   0.1s\n",
      "[CV] END learning_rate=0.3, max_depth=20, min_child_weight=8, n_estimators=400; total time=   0.1s\n",
      "[CV] END learning_rate=0.3, max_depth=20, min_child_weight=8, n_estimators=500; total time=   0.2s\n",
      "[CV] END learning_rate=0.3, max_depth=20, min_child_weight=8, n_estimators=500; total time=   0.1s\n",
      "[CV] END learning_rate=0.3, max_depth=20, min_child_weight=8, n_estimators=500; total time=   0.2s\n",
      "[CV] END learning_rate=0.3, max_depth=20, min_child_weight=10, n_estimators=300; total time=   0.0s\n",
      "[CV] END learning_rate=0.3, max_depth=20, min_child_weight=10, n_estimators=300; total time=   0.0s\n",
      "[CV] END learning_rate=0.3, max_depth=20, min_child_weight=10, n_estimators=300; total time=   0.0s\n",
      "[CV] END learning_rate=0.3, max_depth=20, min_child_weight=10, n_estimators=400; total time=   0.1s\n",
      "[CV] END learning_rate=0.3, max_depth=20, min_child_weight=10, n_estimators=400; total time=   0.1s\n",
      "[CV] END learning_rate=0.3, max_depth=20, min_child_weight=10, n_estimators=400; total time=   0.1s\n",
      "[CV] END learning_rate=0.3, max_depth=20, min_child_weight=10, n_estimators=500; total time=   0.2s\n",
      "[CV] END learning_rate=0.3, max_depth=20, min_child_weight=10, n_estimators=500; total time=   0.2s\n",
      "[CV] END learning_rate=0.3, max_depth=20, min_child_weight=10, n_estimators=500; total time=   0.2s\n",
      "[CV] END learning_rate=0.3, max_depth=25, min_child_weight=6, n_estimators=300; total time=   0.1s\n",
      "[CV] END learning_rate=0.3, max_depth=25, min_child_weight=6, n_estimators=300; total time=   0.1s\n",
      "[CV] END learning_rate=0.3, max_depth=25, min_child_weight=6, n_estimators=300; total time=   0.1s\n",
      "[CV] END learning_rate=0.3, max_depth=25, min_child_weight=6, n_estimators=400; total time=   0.1s\n",
      "[CV] END learning_rate=0.3, max_depth=25, min_child_weight=6, n_estimators=400; total time=   0.1s\n",
      "[CV] END learning_rate=0.3, max_depth=25, min_child_weight=6, n_estimators=400; total time=   0.1s\n",
      "[CV] END learning_rate=0.3, max_depth=25, min_child_weight=6, n_estimators=500; total time=   0.2s\n",
      "[CV] END learning_rate=0.3, max_depth=25, min_child_weight=6, n_estimators=500; total time=   0.2s\n",
      "[CV] END learning_rate=0.3, max_depth=25, min_child_weight=6, n_estimators=500; total time=   0.2s\n",
      "[CV] END learning_rate=0.3, max_depth=25, min_child_weight=8, n_estimators=300; total time=   0.1s\n",
      "[CV] END learning_rate=0.3, max_depth=25, min_child_weight=8, n_estimators=300; total time=   0.0s\n",
      "[CV] END learning_rate=0.3, max_depth=25, min_child_weight=8, n_estimators=300; total time=   0.0s\n",
      "[CV] END learning_rate=0.3, max_depth=25, min_child_weight=8, n_estimators=400; total time=   0.1s\n",
      "[CV] END learning_rate=0.3, max_depth=25, min_child_weight=8, n_estimators=400; total time=   0.1s\n",
      "[CV] END learning_rate=0.3, max_depth=25, min_child_weight=8, n_estimators=400; total time=   0.1s\n",
      "[CV] END learning_rate=0.3, max_depth=25, min_child_weight=8, n_estimators=500; total time=   0.2s\n",
      "[CV] END learning_rate=0.3, max_depth=25, min_child_weight=8, n_estimators=500; total time=   0.2s\n",
      "[CV] END learning_rate=0.3, max_depth=25, min_child_weight=8, n_estimators=500; total time=   0.2s\n",
      "[CV] END learning_rate=0.3, max_depth=25, min_child_weight=10, n_estimators=300; total time=   0.1s\n",
      "[CV] END learning_rate=0.3, max_depth=25, min_child_weight=10, n_estimators=300; total time=   0.1s\n",
      "[CV] END learning_rate=0.3, max_depth=25, min_child_weight=10, n_estimators=300; total time=   0.1s\n",
      "[CV] END learning_rate=0.3, max_depth=25, min_child_weight=10, n_estimators=400; total time=   0.1s\n",
      "[CV] END learning_rate=0.3, max_depth=25, min_child_weight=10, n_estimators=400; total time=   0.1s\n",
      "[CV] END learning_rate=0.3, max_depth=25, min_child_weight=10, n_estimators=400; total time=   0.1s\n",
      "[CV] END learning_rate=0.3, max_depth=25, min_child_weight=10, n_estimators=500; total time=   0.3s\n",
      "[CV] END learning_rate=0.3, max_depth=25, min_child_weight=10, n_estimators=500; total time=   0.3s\n",
      "[CV] END learning_rate=0.3, max_depth=25, min_child_weight=10, n_estimators=500; total time=   0.2s\n",
      "[CV] END learning_rate=0.5, max_depth=15, min_child_weight=6, n_estimators=300; total time=   0.1s\n",
      "[CV] END learning_rate=0.5, max_depth=15, min_child_weight=6, n_estimators=300; total time=   0.1s\n",
      "[CV] END learning_rate=0.5, max_depth=15, min_child_weight=6, n_estimators=300; total time=   0.1s\n",
      "[CV] END learning_rate=0.5, max_depth=15, min_child_weight=6, n_estimators=400; total time=   0.2s\n",
      "[CV] END learning_rate=0.5, max_depth=15, min_child_weight=6, n_estimators=400; total time=   0.1s\n",
      "[CV] END learning_rate=0.5, max_depth=15, min_child_weight=6, n_estimators=400; total time=   0.1s\n",
      "[CV] END learning_rate=0.5, max_depth=15, min_child_weight=6, n_estimators=500; total time=   0.2s\n",
      "[CV] END learning_rate=0.5, max_depth=15, min_child_weight=6, n_estimators=500; total time=   0.1s\n",
      "[CV] END learning_rate=0.5, max_depth=15, min_child_weight=6, n_estimators=500; total time=   0.2s\n",
      "[CV] END learning_rate=0.5, max_depth=15, min_child_weight=8, n_estimators=300; total time=   0.1s\n",
      "[CV] END learning_rate=0.5, max_depth=15, min_child_weight=8, n_estimators=300; total time=   0.1s\n",
      "[CV] END learning_rate=0.5, max_depth=15, min_child_weight=8, n_estimators=300; total time=   0.1s\n",
      "[CV] END learning_rate=0.5, max_depth=15, min_child_weight=8, n_estimators=400; total time=   0.1s\n",
      "[CV] END learning_rate=0.5, max_depth=15, min_child_weight=8, n_estimators=400; total time=   0.1s\n",
      "[CV] END learning_rate=0.5, max_depth=15, min_child_weight=8, n_estimators=400; total time=   0.1s\n",
      "[CV] END learning_rate=0.5, max_depth=15, min_child_weight=8, n_estimators=500; total time=   0.2s\n",
      "[CV] END learning_rate=0.5, max_depth=15, min_child_weight=8, n_estimators=500; total time=   0.1s\n",
      "[CV] END learning_rate=0.5, max_depth=15, min_child_weight=8, n_estimators=500; total time=   0.1s\n",
      "[CV] END learning_rate=0.5, max_depth=15, min_child_weight=10, n_estimators=300; total time=   0.1s\n",
      "[CV] END learning_rate=0.5, max_depth=15, min_child_weight=10, n_estimators=300; total time=   0.0s\n",
      "[CV] END learning_rate=0.5, max_depth=15, min_child_weight=10, n_estimators=300; total time=   0.0s\n",
      "[CV] END learning_rate=0.5, max_depth=15, min_child_weight=10, n_estimators=400; total time=   0.1s\n",
      "[CV] END learning_rate=0.5, max_depth=15, min_child_weight=10, n_estimators=400; total time=   0.1s\n",
      "[CV] END learning_rate=0.5, max_depth=15, min_child_weight=10, n_estimators=400; total time=   0.1s\n",
      "[CV] END learning_rate=0.5, max_depth=15, min_child_weight=10, n_estimators=500; total time=   0.2s\n",
      "[CV] END learning_rate=0.5, max_depth=15, min_child_weight=10, n_estimators=500; total time=   0.2s\n",
      "[CV] END learning_rate=0.5, max_depth=15, min_child_weight=10, n_estimators=500; total time=   0.2s\n",
      "[CV] END learning_rate=0.5, max_depth=20, min_child_weight=6, n_estimators=300; total time=   0.1s\n",
      "[CV] END learning_rate=0.5, max_depth=20, min_child_weight=6, n_estimators=300; total time=   0.1s\n",
      "[CV] END learning_rate=0.5, max_depth=20, min_child_weight=6, n_estimators=300; total time=   0.1s\n",
      "[CV] END learning_rate=0.5, max_depth=20, min_child_weight=6, n_estimators=400; total time=   0.1s\n",
      "[CV] END learning_rate=0.5, max_depth=20, min_child_weight=6, n_estimators=400; total time=   0.1s\n",
      "[CV] END learning_rate=0.5, max_depth=20, min_child_weight=6, n_estimators=400; total time=   0.1s\n",
      "[CV] END learning_rate=0.5, max_depth=20, min_child_weight=6, n_estimators=500; total time=   0.2s\n",
      "[CV] END learning_rate=0.5, max_depth=20, min_child_weight=6, n_estimators=500; total time=   0.2s\n",
      "[CV] END learning_rate=0.5, max_depth=20, min_child_weight=6, n_estimators=500; total time=   0.2s\n",
      "[CV] END learning_rate=0.5, max_depth=20, min_child_weight=8, n_estimators=300; total time=   0.0s\n",
      "[CV] END learning_rate=0.5, max_depth=20, min_child_weight=8, n_estimators=300; total time=   0.1s\n",
      "[CV] END learning_rate=0.5, max_depth=20, min_child_weight=8, n_estimators=300; total time=   0.0s\n",
      "[CV] END learning_rate=0.5, max_depth=20, min_child_weight=8, n_estimators=400; total time=   0.1s\n",
      "[CV] END learning_rate=0.5, max_depth=20, min_child_weight=8, n_estimators=400; total time=   0.1s\n",
      "[CV] END learning_rate=0.5, max_depth=20, min_child_weight=8, n_estimators=400; total time=   0.1s\n",
      "[CV] END learning_rate=0.5, max_depth=20, min_child_weight=8, n_estimators=500; total time=   0.2s\n",
      "[CV] END learning_rate=0.5, max_depth=20, min_child_weight=8, n_estimators=500; total time=   0.2s\n",
      "[CV] END learning_rate=0.5, max_depth=20, min_child_weight=8, n_estimators=500; total time=   0.2s\n",
      "[CV] END learning_rate=0.5, max_depth=20, min_child_weight=10, n_estimators=300; total time=   0.0s\n",
      "[CV] END learning_rate=0.5, max_depth=20, min_child_weight=10, n_estimators=300; total time=   0.0s\n",
      "[CV] END learning_rate=0.5, max_depth=20, min_child_weight=10, n_estimators=300; total time=   0.0s\n",
      "[CV] END learning_rate=0.5, max_depth=20, min_child_weight=10, n_estimators=400; total time=   0.1s\n",
      "[CV] END learning_rate=0.5, max_depth=20, min_child_weight=10, n_estimators=400; total time=   0.1s\n",
      "[CV] END learning_rate=0.5, max_depth=20, min_child_weight=10, n_estimators=400; total time=   0.1s\n",
      "[CV] END learning_rate=0.5, max_depth=20, min_child_weight=10, n_estimators=500; total time=   0.2s\n",
      "[CV] END learning_rate=0.5, max_depth=20, min_child_weight=10, n_estimators=500; total time=   0.2s\n",
      "[CV] END learning_rate=0.5, max_depth=20, min_child_weight=10, n_estimators=500; total time=   0.3s\n",
      "[CV] END learning_rate=0.5, max_depth=25, min_child_weight=6, n_estimators=300; total time=   0.2s\n",
      "[CV] END learning_rate=0.5, max_depth=25, min_child_weight=6, n_estimators=300; total time=   0.1s\n",
      "[CV] END learning_rate=0.5, max_depth=25, min_child_weight=6, n_estimators=300; total time=   0.1s\n",
      "[CV] END learning_rate=0.5, max_depth=25, min_child_weight=6, n_estimators=400; total time=   0.2s\n",
      "[CV] END learning_rate=0.5, max_depth=25, min_child_weight=6, n_estimators=400; total time=   0.1s\n",
      "[CV] END learning_rate=0.5, max_depth=25, min_child_weight=6, n_estimators=400; total time=   0.1s\n",
      "[CV] END learning_rate=0.5, max_depth=25, min_child_weight=6, n_estimators=500; total time=   0.2s\n",
      "[CV] END learning_rate=0.5, max_depth=25, min_child_weight=6, n_estimators=500; total time=   0.2s\n",
      "[CV] END learning_rate=0.5, max_depth=25, min_child_weight=6, n_estimators=500; total time=   0.2s\n",
      "[CV] END learning_rate=0.5, max_depth=25, min_child_weight=8, n_estimators=300; total time=   0.1s\n",
      "[CV] END learning_rate=0.5, max_depth=25, min_child_weight=8, n_estimators=300; total time=   0.1s\n",
      "[CV] END learning_rate=0.5, max_depth=25, min_child_weight=8, n_estimators=300; total time=   0.1s\n",
      "[CV] END learning_rate=0.5, max_depth=25, min_child_weight=8, n_estimators=400; total time=   0.2s\n",
      "[CV] END learning_rate=0.5, max_depth=25, min_child_weight=8, n_estimators=400; total time=   0.2s\n",
      "[CV] END learning_rate=0.5, max_depth=25, min_child_weight=8, n_estimators=400; total time=   0.3s\n",
      "[CV] END learning_rate=0.5, max_depth=25, min_child_weight=8, n_estimators=500; total time=   0.7s\n",
      "[CV] END learning_rate=0.5, max_depth=25, min_child_weight=8, n_estimators=500; total time=   0.2s\n",
      "[CV] END learning_rate=0.5, max_depth=25, min_child_weight=8, n_estimators=500; total time=   0.2s\n",
      "[CV] END learning_rate=0.5, max_depth=25, min_child_weight=10, n_estimators=300; total time=   0.0s\n",
      "[CV] END learning_rate=0.5, max_depth=25, min_child_weight=10, n_estimators=300; total time=   0.0s\n",
      "[CV] END learning_rate=0.5, max_depth=25, min_child_weight=10, n_estimators=300; total time=   0.1s\n",
      "[CV] END learning_rate=0.5, max_depth=25, min_child_weight=10, n_estimators=400; total time=   0.2s\n",
      "[CV] END learning_rate=0.5, max_depth=25, min_child_weight=10, n_estimators=400; total time=   0.3s\n",
      "[CV] END learning_rate=0.5, max_depth=25, min_child_weight=10, n_estimators=400; total time=   0.3s\n",
      "[CV] END learning_rate=0.5, max_depth=25, min_child_weight=10, n_estimators=500; total time=   0.2s\n",
      "[CV] END learning_rate=0.5, max_depth=25, min_child_weight=10, n_estimators=500; total time=   0.1s\n",
      "[CV] END learning_rate=0.5, max_depth=25, min_child_weight=10, n_estimators=500; total time=   0.1s\n",
      "[CV] END learning_rate=0.7, max_depth=15, min_child_weight=6, n_estimators=300; total time=   0.1s\n",
      "[CV] END learning_rate=0.7, max_depth=15, min_child_weight=6, n_estimators=300; total time=   0.1s\n",
      "[CV] END learning_rate=0.7, max_depth=15, min_child_weight=6, n_estimators=300; total time=   0.1s\n",
      "[CV] END learning_rate=0.7, max_depth=15, min_child_weight=6, n_estimators=400; total time=   0.2s\n",
      "[CV] END learning_rate=0.7, max_depth=15, min_child_weight=6, n_estimators=400; total time=   0.2s\n",
      "[CV] END learning_rate=0.7, max_depth=15, min_child_weight=6, n_estimators=400; total time=   0.1s\n",
      "[CV] END learning_rate=0.7, max_depth=15, min_child_weight=6, n_estimators=500; total time=   0.2s\n",
      "[CV] END learning_rate=0.7, max_depth=15, min_child_weight=6, n_estimators=500; total time=   0.1s\n",
      "[CV] END learning_rate=0.7, max_depth=15, min_child_weight=6, n_estimators=500; total time=   0.2s\n",
      "[CV] END learning_rate=0.7, max_depth=15, min_child_weight=8, n_estimators=300; total time=   0.0s\n",
      "[CV] END learning_rate=0.7, max_depth=15, min_child_weight=8, n_estimators=300; total time=   0.1s\n",
      "[CV] END learning_rate=0.7, max_depth=15, min_child_weight=8, n_estimators=300; total time=   0.0s\n",
      "[CV] END learning_rate=0.7, max_depth=15, min_child_weight=8, n_estimators=400; total time=   0.1s\n",
      "[CV] END learning_rate=0.7, max_depth=15, min_child_weight=8, n_estimators=400; total time=   0.1s\n",
      "[CV] END learning_rate=0.7, max_depth=15, min_child_weight=8, n_estimators=400; total time=   0.1s\n",
      "[CV] END learning_rate=0.7, max_depth=15, min_child_weight=8, n_estimators=500; total time=   0.2s\n",
      "[CV] END learning_rate=0.7, max_depth=15, min_child_weight=8, n_estimators=500; total time=   0.1s\n",
      "[CV] END learning_rate=0.7, max_depth=15, min_child_weight=8, n_estimators=500; total time=   0.2s\n",
      "[CV] END learning_rate=0.7, max_depth=15, min_child_weight=10, n_estimators=300; total time=   0.0s\n",
      "[CV] END learning_rate=0.7, max_depth=15, min_child_weight=10, n_estimators=300; total time=   0.0s\n",
      "[CV] END learning_rate=0.7, max_depth=15, min_child_weight=10, n_estimators=300; total time=   0.0s\n",
      "[CV] END learning_rate=0.7, max_depth=15, min_child_weight=10, n_estimators=400; total time=   0.2s\n",
      "[CV] END learning_rate=0.7, max_depth=15, min_child_weight=10, n_estimators=400; total time=   0.2s\n",
      "[CV] END learning_rate=0.7, max_depth=15, min_child_weight=10, n_estimators=400; total time=   0.2s\n",
      "[CV] END learning_rate=0.7, max_depth=15, min_child_weight=10, n_estimators=500; total time=   0.2s\n",
      "[CV] END learning_rate=0.7, max_depth=15, min_child_weight=10, n_estimators=500; total time=   0.1s\n",
      "[CV] END learning_rate=0.7, max_depth=15, min_child_weight=10, n_estimators=500; total time=   0.1s\n",
      "[CV] END learning_rate=0.7, max_depth=20, min_child_weight=6, n_estimators=300; total time=   0.1s\n",
      "[CV] END learning_rate=0.7, max_depth=20, min_child_weight=6, n_estimators=300; total time=   0.1s\n",
      "[CV] END learning_rate=0.7, max_depth=20, min_child_weight=6, n_estimators=300; total time=   0.1s\n",
      "[CV] END learning_rate=0.7, max_depth=20, min_child_weight=6, n_estimators=400; total time=   0.2s\n",
      "[CV] END learning_rate=0.7, max_depth=20, min_child_weight=6, n_estimators=400; total time=   0.3s\n",
      "[CV] END learning_rate=0.7, max_depth=20, min_child_weight=6, n_estimators=400; total time=   0.3s\n",
      "[CV] END learning_rate=0.7, max_depth=20, min_child_weight=6, n_estimators=500; total time=   0.2s\n",
      "[CV] END learning_rate=0.7, max_depth=20, min_child_weight=6, n_estimators=500; total time=   0.2s\n",
      "[CV] END learning_rate=0.7, max_depth=20, min_child_weight=6, n_estimators=500; total time=   0.2s\n",
      "[CV] END learning_rate=0.7, max_depth=20, min_child_weight=8, n_estimators=300; total time=   0.1s\n",
      "[CV] END learning_rate=0.7, max_depth=20, min_child_weight=8, n_estimators=300; total time=   0.1s\n",
      "[CV] END learning_rate=0.7, max_depth=20, min_child_weight=8, n_estimators=300; total time=   0.1s\n",
      "[CV] END learning_rate=0.7, max_depth=20, min_child_weight=8, n_estimators=400; total time=   0.1s\n",
      "[CV] END learning_rate=0.7, max_depth=20, min_child_weight=8, n_estimators=400; total time=   0.1s\n",
      "[CV] END learning_rate=0.7, max_depth=20, min_child_weight=8, n_estimators=400; total time=   0.1s\n",
      "[CV] END learning_rate=0.7, max_depth=20, min_child_weight=8, n_estimators=500; total time=   0.3s\n",
      "[CV] END learning_rate=0.7, max_depth=20, min_child_weight=8, n_estimators=500; total time=   0.7s\n",
      "[CV] END learning_rate=0.7, max_depth=20, min_child_weight=8, n_estimators=500; total time=   0.4s\n",
      "[CV] END learning_rate=0.7, max_depth=20, min_child_weight=10, n_estimators=300; total time=   0.1s\n",
      "[CV] END learning_rate=0.7, max_depth=20, min_child_weight=10, n_estimators=300; total time=   0.1s\n",
      "[CV] END learning_rate=0.7, max_depth=20, min_child_weight=10, n_estimators=300; total time=   0.1s\n",
      "[CV] END learning_rate=0.7, max_depth=20, min_child_weight=10, n_estimators=400; total time=   0.1s\n",
      "[CV] END learning_rate=0.7, max_depth=20, min_child_weight=10, n_estimators=400; total time=   0.1s\n",
      "[CV] END learning_rate=0.7, max_depth=20, min_child_weight=10, n_estimators=400; total time=   0.1s\n",
      "[CV] END learning_rate=0.7, max_depth=20, min_child_weight=10, n_estimators=500; total time=   0.2s\n",
      "[CV] END learning_rate=0.7, max_depth=20, min_child_weight=10, n_estimators=500; total time=   0.2s\n",
      "[CV] END learning_rate=0.7, max_depth=20, min_child_weight=10, n_estimators=500; total time=   0.1s\n",
      "[CV] END learning_rate=0.7, max_depth=25, min_child_weight=6, n_estimators=300; total time=   0.1s\n",
      "[CV] END learning_rate=0.7, max_depth=25, min_child_weight=6, n_estimators=300; total time=   0.1s\n",
      "[CV] END learning_rate=0.7, max_depth=25, min_child_weight=6, n_estimators=300; total time=   0.1s\n",
      "[CV] END learning_rate=0.7, max_depth=25, min_child_weight=6, n_estimators=400; total time=   0.1s\n",
      "[CV] END learning_rate=0.7, max_depth=25, min_child_weight=6, n_estimators=400; total time=   0.1s\n",
      "[CV] END learning_rate=0.7, max_depth=25, min_child_weight=6, n_estimators=400; total time=   0.3s\n",
      "[CV] END learning_rate=0.7, max_depth=25, min_child_weight=6, n_estimators=500; total time=   0.2s\n",
      "[CV] END learning_rate=0.7, max_depth=25, min_child_weight=6, n_estimators=500; total time=   0.2s\n",
      "[CV] END learning_rate=0.7, max_depth=25, min_child_weight=6, n_estimators=500; total time=   0.2s\n",
      "[CV] END learning_rate=0.7, max_depth=25, min_child_weight=8, n_estimators=300; total time=   0.1s\n",
      "[CV] END learning_rate=0.7, max_depth=25, min_child_weight=8, n_estimators=300; total time=   0.1s\n",
      "[CV] END learning_rate=0.7, max_depth=25, min_child_weight=8, n_estimators=300; total time=   0.0s\n",
      "[CV] END learning_rate=0.7, max_depth=25, min_child_weight=8, n_estimators=400; total time=   0.1s\n",
      "[CV] END learning_rate=0.7, max_depth=25, min_child_weight=8, n_estimators=400; total time=   0.1s\n",
      "[CV] END learning_rate=0.7, max_depth=25, min_child_weight=8, n_estimators=400; total time=   0.1s\n",
      "[CV] END learning_rate=0.7, max_depth=25, min_child_weight=8, n_estimators=500; total time=   0.3s\n",
      "[CV] END learning_rate=0.7, max_depth=25, min_child_weight=8, n_estimators=500; total time=   0.2s\n",
      "[CV] END learning_rate=0.7, max_depth=25, min_child_weight=8, n_estimators=500; total time=   0.3s\n",
      "[CV] END learning_rate=0.7, max_depth=25, min_child_weight=10, n_estimators=300; total time=   0.0s\n",
      "[CV] END learning_rate=0.7, max_depth=25, min_child_weight=10, n_estimators=300; total time=   0.0s\n",
      "[CV] END learning_rate=0.7, max_depth=25, min_child_weight=10, n_estimators=300; total time=   0.0s\n",
      "[CV] END learning_rate=0.7, max_depth=25, min_child_weight=10, n_estimators=400; total time=   0.1s\n",
      "[CV] END learning_rate=0.7, max_depth=25, min_child_weight=10, n_estimators=400; total time=   0.1s\n",
      "[CV] END learning_rate=0.7, max_depth=25, min_child_weight=10, n_estimators=400; total time=   0.1s\n",
      "[CV] END learning_rate=0.7, max_depth=25, min_child_weight=10, n_estimators=500; total time=   0.1s\n",
      "[CV] END learning_rate=0.7, max_depth=25, min_child_weight=10, n_estimators=500; total time=   0.1s\n",
      "[CV] END learning_rate=0.7, max_depth=25, min_child_weight=10, n_estimators=500; total time=   0.2s\n"
     ]
    }
   ],
   "source": [
    "grid.fit(x_train,y_train);       ## fit the data"
   ]
  },
  {
   "cell_type": "code",
   "execution_count": 49,
   "id": "f895c77f",
   "metadata": {
    "pycharm": {
     "name": "#%%\n"
    }
   },
   "outputs": [
    {
     "data": {
      "text/plain": "XGBRegressor(base_score=0.5, booster='gbtree', callbacks=None,\n             colsample_bylevel=1, colsample_bynode=1, colsample_bytree=1,\n             early_stopping_rounds=None, enable_categorical=False,\n             eval_metric=None, gamma=0, gpu_id=-1, grow_policy='depthwise',\n             importance_type=None, interaction_constraints='',\n             learning_rate=0.5, max_bin=256, max_cat_to_onehot=4,\n             max_delta_step=0, max_depth=15, max_leaves=0, min_child_weight=8,\n             missing=nan, monotone_constraints='()', n_estimators=500, n_jobs=0,\n             num_parallel_tree=1, predictor='auto', random_state=0, reg_alpha=0,\n             reg_lambda=1, ...)",
      "text/html": "<style>#sk-container-id-1 {color: black;background-color: white;}#sk-container-id-1 pre{padding: 0;}#sk-container-id-1 div.sk-toggleable {background-color: white;}#sk-container-id-1 label.sk-toggleable__label {cursor: pointer;display: block;width: 100%;margin-bottom: 0;padding: 0.3em;box-sizing: border-box;text-align: center;}#sk-container-id-1 label.sk-toggleable__label-arrow:before {content: \"▸\";float: left;margin-right: 0.25em;color: #696969;}#sk-container-id-1 label.sk-toggleable__label-arrow:hover:before {color: black;}#sk-container-id-1 div.sk-estimator:hover label.sk-toggleable__label-arrow:before {color: black;}#sk-container-id-1 div.sk-toggleable__content {max-height: 0;max-width: 0;overflow: hidden;text-align: left;background-color: #f0f8ff;}#sk-container-id-1 div.sk-toggleable__content pre {margin: 0.2em;color: black;border-radius: 0.25em;background-color: #f0f8ff;}#sk-container-id-1 input.sk-toggleable__control:checked~div.sk-toggleable__content {max-height: 200px;max-width: 100%;overflow: auto;}#sk-container-id-1 input.sk-toggleable__control:checked~label.sk-toggleable__label-arrow:before {content: \"▾\";}#sk-container-id-1 div.sk-estimator input.sk-toggleable__control:checked~label.sk-toggleable__label {background-color: #d4ebff;}#sk-container-id-1 div.sk-label input.sk-toggleable__control:checked~label.sk-toggleable__label {background-color: #d4ebff;}#sk-container-id-1 input.sk-hidden--visually {border: 0;clip: rect(1px 1px 1px 1px);clip: rect(1px, 1px, 1px, 1px);height: 1px;margin: -1px;overflow: hidden;padding: 0;position: absolute;width: 1px;}#sk-container-id-1 div.sk-estimator {font-family: monospace;background-color: #f0f8ff;border: 1px dotted black;border-radius: 0.25em;box-sizing: border-box;margin-bottom: 0.5em;}#sk-container-id-1 div.sk-estimator:hover {background-color: #d4ebff;}#sk-container-id-1 div.sk-parallel-item::after {content: \"\";width: 100%;border-bottom: 1px solid gray;flex-grow: 1;}#sk-container-id-1 div.sk-label:hover label.sk-toggleable__label {background-color: #d4ebff;}#sk-container-id-1 div.sk-serial::before {content: \"\";position: absolute;border-left: 1px solid gray;box-sizing: border-box;top: 0;bottom: 0;left: 50%;z-index: 0;}#sk-container-id-1 div.sk-serial {display: flex;flex-direction: column;align-items: center;background-color: white;padding-right: 0.2em;padding-left: 0.2em;position: relative;}#sk-container-id-1 div.sk-item {position: relative;z-index: 1;}#sk-container-id-1 div.sk-parallel {display: flex;align-items: stretch;justify-content: center;background-color: white;position: relative;}#sk-container-id-1 div.sk-item::before, #sk-container-id-1 div.sk-parallel-item::before {content: \"\";position: absolute;border-left: 1px solid gray;box-sizing: border-box;top: 0;bottom: 0;left: 50%;z-index: -1;}#sk-container-id-1 div.sk-parallel-item {display: flex;flex-direction: column;z-index: 1;position: relative;background-color: white;}#sk-container-id-1 div.sk-parallel-item:first-child::after {align-self: flex-end;width: 50%;}#sk-container-id-1 div.sk-parallel-item:last-child::after {align-self: flex-start;width: 50%;}#sk-container-id-1 div.sk-parallel-item:only-child::after {width: 0;}#sk-container-id-1 div.sk-dashed-wrapped {border: 1px dashed gray;margin: 0 0.4em 0.5em 0.4em;box-sizing: border-box;padding-bottom: 0.4em;background-color: white;}#sk-container-id-1 div.sk-label label {font-family: monospace;font-weight: bold;display: inline-block;line-height: 1.2em;}#sk-container-id-1 div.sk-label-container {text-align: center;}#sk-container-id-1 div.sk-container {/* jupyter's `normalize.less` sets `[hidden] { display: none; }` but bootstrap.min.css set `[hidden] { display: none !important; }` so we also need the `!important` here to be able to override the default hidden behavior on the sphinx rendered scikit-learn.org. See: https://github.com/scikit-learn/scikit-learn/issues/21755 */display: inline-block !important;position: relative;}#sk-container-id-1 div.sk-text-repr-fallback {display: none;}</style><div id=\"sk-container-id-1\" class=\"sk-top-container\"><div class=\"sk-text-repr-fallback\"><pre>XGBRegressor(base_score=0.5, booster=&#x27;gbtree&#x27;, callbacks=None,\n             colsample_bylevel=1, colsample_bynode=1, colsample_bytree=1,\n             early_stopping_rounds=None, enable_categorical=False,\n             eval_metric=None, gamma=0, gpu_id=-1, grow_policy=&#x27;depthwise&#x27;,\n             importance_type=None, interaction_constraints=&#x27;&#x27;,\n             learning_rate=0.5, max_bin=256, max_cat_to_onehot=4,\n             max_delta_step=0, max_depth=15, max_leaves=0, min_child_weight=8,\n             missing=nan, monotone_constraints=&#x27;()&#x27;, n_estimators=500, n_jobs=0,\n             num_parallel_tree=1, predictor=&#x27;auto&#x27;, random_state=0, reg_alpha=0,\n             reg_lambda=1, ...)</pre><b>In a Jupyter environment, please rerun this cell to show the HTML representation or trust the notebook. <br />On GitHub, the HTML representation is unable to render, please try loading this page with nbviewer.org.</b></div><div class=\"sk-container\" hidden><div class=\"sk-item\"><div class=\"sk-estimator sk-toggleable\"><input class=\"sk-toggleable__control sk-hidden--visually\" id=\"sk-estimator-id-1\" type=\"checkbox\" checked><label for=\"sk-estimator-id-1\" class=\"sk-toggleable__label sk-toggleable__label-arrow\">XGBRegressor</label><div class=\"sk-toggleable__content\"><pre>XGBRegressor(base_score=0.5, booster=&#x27;gbtree&#x27;, callbacks=None,\n             colsample_bylevel=1, colsample_bynode=1, colsample_bytree=1,\n             early_stopping_rounds=None, enable_categorical=False,\n             eval_metric=None, gamma=0, gpu_id=-1, grow_policy=&#x27;depthwise&#x27;,\n             importance_type=None, interaction_constraints=&#x27;&#x27;,\n             learning_rate=0.5, max_bin=256, max_cat_to_onehot=4,\n             max_delta_step=0, max_depth=15, max_leaves=0, min_child_weight=8,\n             missing=nan, monotone_constraints=&#x27;()&#x27;, n_estimators=500, n_jobs=0,\n             num_parallel_tree=1, predictor=&#x27;auto&#x27;, random_state=0, reg_alpha=0,\n             reg_lambda=1, ...)</pre></div></div></div></div></div>"
     },
     "execution_count": 49,
     "metadata": {},
     "output_type": "execute_result"
    }
   ],
   "source": [
    "grid.best_estimator_                   ## the gridsearchcv returns the best parameters values."
   ]
  },
  {
   "cell_type": "code",
   "execution_count": 51,
   "id": "7f7762de",
   "metadata": {
    "pycharm": {
     "name": "#%%\n"
    }
   },
   "outputs": [],
   "source": [
    "## pass in the best parameter values.\n",
    "model_xgb=xgb.XGBRegressor(max_depth=15,min_child_weight=8,n_estimators=500,learning_rate=0.5)    "
   ]
  },
  {
   "cell_type": "code",
   "execution_count": 52,
   "id": "4b89f47b",
   "metadata": {
    "pycharm": {
     "name": "#%%\n"
    }
   },
   "outputs": [],
   "source": [
    "##  train the data with the tuned parameters.\n",
    "model_1=model_xgb.fit(x_train,y_train)"
   ]
  },
  {
   "cell_type": "code",
   "execution_count": 53,
   "outputs": [],
   "source": [
    "pickle.dump(model_1,open('Xgboost.sav','wb'))"
   ],
   "metadata": {
    "collapsed": false,
    "pycharm": {
     "name": "#%%\n"
    }
   }
  },
  {
   "cell_type": "code",
   "execution_count": 100,
   "id": "2a19f55b",
   "metadata": {
    "pycharm": {
     "name": "#%%\n"
    }
   },
   "outputs": [],
   "source": [
    "## make predictions\n",
    "\n",
    "y_pred1=model_1.predict(x_test)"
   ]
  },
  {
   "cell_type": "code",
   "execution_count": 101,
   "id": "73d439c7",
   "metadata": {
    "pycharm": {
     "name": "#%%\n"
    }
   },
   "outputs": [
    {
     "name": "stdout",
     "output_type": "stream",
     "text": [
      "Mean Absolute Error: 1163.7010962115833\n",
      "Mean Squared Error: 4535339.210361445\n",
      "Root Mean Squared Error: 2129.6335859394794\n",
      "R2 score: 0.953404811728709\n"
     ]
    }
   ],
   "source": [
    "## measure the performance for different metrics.\n",
    "\n",
    "print('Mean Absolute Error:', metrics.mean_absolute_error(y_test, y_pred1))\n",
    "print('Mean Squared Error:', metrics.mean_squared_error(y_test, y_pred1))\n",
    "print('Root Mean Squared Error:', np.sqrt(metrics.mean_squared_error(y_test, y_pred1)))\n",
    "print('R2 score:', metrics.r2_score(y_pred1,y_test))"
   ]
  },
  {
   "cell_type": "markdown",
   "id": "2c00d731",
   "metadata": {
    "pycharm": {
     "name": "#%% md\n"
    }
   },
   "source": [
    "### CatBoost Regressor"
   ]
  },
  {
   "cell_type": "code",
   "execution_count": 102,
   "id": "9a324224",
   "metadata": {
    "pycharm": {
     "name": "#%%\n"
    }
   },
   "outputs": [],
   "source": [
    "## call another model\n",
    "\n",
    "model1=cb.CatBoostRegressor()"
   ]
  },
  {
   "cell_type": "code",
   "execution_count": 103,
   "id": "c2544e8a",
   "metadata": {
    "pycharm": {
     "name": "#%%\n"
    }
   },
   "outputs": [],
   "source": [
    "## define parameter values and apply them in a grid module\n",
    "\n",
    "params1 = {'max_depth':[6,10,15],\n",
    "          'iterations':[120,150,200],\n",
    "          'learning_rate':[0.1,0.2,0.3]}\n",
    "\n",
    "grid1=GridSearchCV(model1,param_grid=params1,verbose=2,cv=3)"
   ]
  },
  {
   "cell_type": "code",
   "execution_count": null,
   "id": "42db18e1",
   "metadata": {
    "pycharm": {
     "name": "#%%\n"
    }
   },
   "outputs": [],
   "source": [
    "grid1.fit(x_train,y_train)"
   ]
  },
  {
   "cell_type": "code",
   "execution_count": 105,
   "id": "0456076a",
   "metadata": {
    "pycharm": {
     "name": "#%%\n"
    }
   },
   "outputs": [
    {
     "name": "stdout",
     "output_type": "stream",
     "text": [
      " Results from Grid Search \n",
      "\n",
      " The best estimator across ALL searched params:\n",
      " <catboost.core.CatBoostRegressor object at 0x000001ABD6A3E2E0>\n",
      "\n",
      " The best score across ALL searched params:\n",
      " 0.963281414215737\n",
      "\n",
      " The best parameters across ALL searched params:\n",
      " {'iterations': 200, 'learning_rate': 0.2, 'max_depth': 10}\n"
     ]
    }
   ],
   "source": [
    "## get the best parameter values\n",
    "\n",
    "print(\" Results from Grid Search \" )\n",
    "print(\"\\n The best estimator across ALL searched params:\\n\", grid1.best_estimator_)\n",
    "print(\"\\n The best score across ALL searched params:\\n\", grid1.best_score_)\n",
    "print(\"\\n The best parameters across ALL searched params:\\n\", grid1.best_params_)"
   ]
  },
  {
   "cell_type": "code",
   "execution_count": 106,
   "id": "adc8ea2f",
   "metadata": {
    "pycharm": {
     "name": "#%%\n"
    }
   },
   "outputs": [],
   "source": [
    "## use the best parameter values given by the gridsearchcv module\n",
    "model_cb=cb.CatBoostRegressor(iterations=200,learning_rate=0.2,max_depth=10)"
   ]
  },
  {
   "cell_type": "code",
   "execution_count": null,
   "id": "2bea6dca",
   "metadata": {
    "pycharm": {
     "name": "#%%\n"
    }
   },
   "outputs": [],
   "source": [
    "## fit the model \n",
    "model2=model_cb.fit(x_train,y_train)"
   ]
  },
  {
   "cell_type": "code",
   "execution_count": 108,
   "id": "6fdbf30d",
   "metadata": {
    "pycharm": {
     "name": "#%%\n"
    }
   },
   "outputs": [],
   "source": [
    "## make predictions\n",
    "y_pred2 = model2.predict(x_test)"
   ]
  },
  {
   "cell_type": "code",
   "execution_count": 109,
   "id": "159597f8",
   "metadata": {
    "pycharm": {
     "name": "#%%\n"
    }
   },
   "outputs": [
    {
     "name": "stdout",
     "output_type": "stream",
     "text": [
      "Mean Absolute Error: 1171.9022183556624\n",
      "Mean Squared Error: 4403613.680271294\n",
      "Root Mean Squared Error: 2098.4788967895993\n",
      "R2 score: 0.9533730015988724\n"
     ]
    }
   ],
   "source": [
    "## measure performance\n",
    "print('Mean Absolute Error:', metrics.mean_absolute_error(y_test, y_pred2))\n",
    "print('Mean Squared Error:', metrics.mean_squared_error(y_test, y_pred2))\n",
    "print('Root Mean Squared Error:', np.sqrt(metrics.mean_squared_error(y_test, y_pred2)))\n",
    "print('R2 score:', metrics.r2_score(y_pred2,y_test))"
   ]
  },
  {
   "cell_type": "code",
   "execution_count": 129,
   "id": "513cfbc2",
   "metadata": {
    "pycharm": {
     "name": "#%%\n"
    }
   },
   "outputs": [
    {
     "data": {
      "text/html": [
       "<style type=\"text/css\">\n",
       "#T_3832b_row0_col0, #T_3832b_row0_col3, #T_3832b_row1_col1, #T_3832b_row1_col2 {\n",
       "  background-color: lightgreen;\n",
       "}\n",
       "</style>\n",
       "<table id=\"T_3832b\">\n",
       "  <thead>\n",
       "    <tr>\n",
       "      <th class=\"blank level0\" >&nbsp;</th>\n",
       "      <th id=\"T_3832b_level0_col0\" class=\"col_heading level0 col0\" >Mean Absolute Error</th>\n",
       "      <th id=\"T_3832b_level0_col1\" class=\"col_heading level0 col1\" >Mean Squared Error</th>\n",
       "      <th id=\"T_3832b_level0_col2\" class=\"col_heading level0 col2\" >Root Mean Squared Error</th>\n",
       "      <th id=\"T_3832b_level0_col3\" class=\"col_heading level0 col3\" >R2 score</th>\n",
       "    </tr>\n",
       "  </thead>\n",
       "  <tbody>\n",
       "    <tr>\n",
       "      <th id=\"T_3832b_level0_row0\" class=\"row_heading level0 row0\" >XGBoost</th>\n",
       "      <td id=\"T_3832b_row0_col0\" class=\"data row0 col0\" >1163.701096</td>\n",
       "      <td id=\"T_3832b_row0_col1\" class=\"data row0 col1\" >4535339.210361</td>\n",
       "      <td id=\"T_3832b_row0_col2\" class=\"data row0 col2\" >2129.633586</td>\n",
       "      <td id=\"T_3832b_row0_col3\" class=\"data row0 col3\" >0.953405</td>\n",
       "    </tr>\n",
       "    <tr>\n",
       "      <th id=\"T_3832b_level0_row1\" class=\"row_heading level0 row1\" >CatBoost</th>\n",
       "      <td id=\"T_3832b_row1_col0\" class=\"data row1 col0\" >1171.902218</td>\n",
       "      <td id=\"T_3832b_row1_col1\" class=\"data row1 col1\" >4403613.680271</td>\n",
       "      <td id=\"T_3832b_row1_col2\" class=\"data row1 col2\" >2098.478897</td>\n",
       "      <td id=\"T_3832b_row1_col3\" class=\"data row1 col3\" >0.953373</td>\n",
       "    </tr>\n",
       "  </tbody>\n",
       "</table>\n"
      ],
      "text/plain": [
       "<pandas.io.formats.style.Styler at 0x1abef7c8bb0>"
      ]
     },
     "execution_count": 129,
     "metadata": {},
     "output_type": "execute_result"
    }
   ],
   "source": [
    "xgb = [metrics.mean_absolute_error(y_test, y_pred1),metrics.mean_squared_error(y_test, y_pred1),\n",
    "      np.sqrt(metrics.mean_squared_error(y_test, y_pred1)),metrics.r2_score(y_pred1,y_test)]\n",
    "\n",
    "catb = [metrics.mean_absolute_error(y_test, y_pred2),metrics.mean_squared_error(y_test, y_pred2),\n",
    "       np.sqrt(metrics.mean_squared_error(y_test, y_pred2)),metrics.r2_score(y_pred2,y_test)]\n",
    "\n",
    "columns = ['Mean Absolute Error','Mean Squared Error', 'Root Mean Squared Error', 'R2 score']\n",
    "\n",
    "Comparison =pd.DataFrame(index=['XGBoost','CatBoost'], data= [xgb,catb], columns = columns)\n",
    "Comparison.style.highlight_min(subset= 'Mean Absolute Error',color ='lightgreen', axis=0).highlight_min(\n",
    "    subset= 'Mean Squared Error',color ='lightgreen', axis=0).highlight_min(\n",
    "    subset= 'Root Mean Squared Error',color ='lightgreen', axis=0).highlight_max(\n",
    "    subset= 'R2 score',color ='lightgreen', axis=0)"
   ]
  },
  {
   "cell_type": "markdown",
   "id": "bcef4726",
   "metadata": {
    "pycharm": {
     "name": "#%% md\n"
    }
   },
   "source": [
    "These two algorithm are so close to each other. Since, CatBoost gives slight better results in Mean squared error, I will use it"
   ]
  },
  {
   "cell_type": "markdown",
   "id": "e6113de0",
   "metadata": {
    "pycharm": {
     "name": "#%% md\n"
    }
   },
   "source": [
    "## Visualization"
   ]
  },
  {
   "cell_type": "code",
   "execution_count": 110,
   "id": "e0683e3c",
   "metadata": {
    "pycharm": {
     "name": "#%%\n"
    }
   },
   "outputs": [
    {
     "data": {
      "image/png": "[encoded data removed]",
      "text/plain": [
       "<Figure size 1152x720 with 1 Axes>"
      ]
     },
     "metadata": {
      "needs_background": "light"
     },
     "output_type": "display_data"
    }
   ],
   "source": [
    "##  Visualize the predictions made by 2 different models. \n",
    "## CatBoostRegressor looks to be slightly better than XGBoostRegressor\n",
    "\n",
    "plt.figure(figsize=(16,10))\n",
    "plt.plot(y_test,y_test)\n",
    "plt.scatter(y_test,y_pred1,color='r', label = 'XGBoost')\n",
    "plt.scatter(y_test,y_pred2,color='g',label='CatBoost')\n",
    "plt.legend()\n",
    "plt.show()"
   ]
  },
  {
   "cell_type": "code",
   "execution_count": 111,
   "id": "4233b3e9",
   "metadata": {
    "pycharm": {
     "name": "#%%\n"
    }
   },
   "outputs": [
    {
     "data": {
      "text/plain": [
       "{'Apple': 0,\n",
       " 'General Mobile': 1,\n",
       " 'Huawei': 2,\n",
       " 'Oppo': 3,\n",
       " 'POCO': 4,\n",
       " 'realme': 5,\n",
       " 'Reeder': 6,\n",
       " 'Samsung': 7,\n",
       " 'TCL': 8}"
      ]
     },
     "execution_count": 111,
     "metadata": {},
     "output_type": "execute_result"
    }
   ],
   "source": [
    "pairs = {}               ## create a dictionary to convert the input brand names into the numerical values in the training. \n",
    "for k,v in zip(df1.Brand.unique(),np.arange(9)):\n",
    "    pairs[k]=v\n",
    "pairs"
   ]
  },
  {
   "cell_type": "markdown",
   "id": "368bde0c",
   "metadata": {
    "pycharm": {
     "name": "#%% md\n"
    }
   },
   "source": [
    "**In the cell below, the code requires you to enter the desired features of a smartphone and predicts price for those product features.**"
   ]
  },
  {
   "cell_type": "code",
   "execution_count": 112,
   "id": "71647432",
   "metadata": {
    "pycharm": {
     "name": "#%%\n"
    }
   },
   "outputs": [
    {
     "name": "stdout",
     "output_type": "stream",
     "text": [
      "Brand :Apple\n",
      "Cpu:2.8\n",
      "RAM:8\n",
      "Storage:32\n",
      "Camera Resolution:20\n",
      "Screen Size:6.25\n",
      "The Price of the product : 9948.8330609456\n"
     ]
    }
   ],
   "source": [
    "Brand = input('Brand :').lower().title().strip()\n",
    "Brand = pairs[Brand]\n",
    "if Brand =='apple':\n",
    "    OS = 1\n",
    "else:\n",
    "    OS = 0\n",
    "    \n",
    "Cpu = input('Cpu:')\n",
    "RAM = input('RAM:')\n",
    "Storage= input('Storage:')\n",
    "Cam= input('Camera Resolution:')\n",
    "Scr= input('Screen Size:')\n",
    "\n",
    "\n",
    "feat=np.array([Brand,Cpu,RAM,Storage,OS,Cam,Scr])\n",
    "pricex = model2.predict(feat)                            ## input cell for user to define desired features. The model makes prediction\n",
    "\n",
    "print(f'The Price of the product : {pricex}')"
   ]
  },
  {
   "cell_type": "code",
   "execution_count": 56,
   "outputs": [
    {
     "data": {
      "text/plain": "array([ 6.25,  4.  ,  6.  , 10.  ,  5.  ,  5.25,  7.  ,  6.2 ,  6.7 ,\n        6.4 ,  6.6 ,  4.25])"
     },
     "execution_count": 56,
     "metadata": {},
     "output_type": "execute_result"
    }
   ],
   "source": [
    "df1['Screen Size'].unique()"
   ],
   "metadata": {
    "collapsed": false,
    "pycharm": {
     "name": "#%%\n"
    }
   }
  },
  {
   "cell_type": "code",
   "execution_count": null,
   "outputs": [],
   "source": [],
   "metadata": {
    "collapsed": false,
    "pycharm": {
     "name": "#%%\n"
    }
   }
  }
 ],
 "metadata": {
  "kernelspec": {
   "display_name": "Python 3 (ipykernel)",
   "language": "python",
   "name": "python3"
  },
  "language_info": {
   "codemirror_mode": {
    "name": "ipython",
    "version": 3
   },
   "file_extension": ".py",
   "mimetype": "text/x-python",
   "name": "python",
   "nbconvert_exporter": "python",
   "pygments_lexer": "ipython3",
   "version": "3.9.12"
  }
 },
 "nbformat": 4,
 "nbformat_minor": 5
}